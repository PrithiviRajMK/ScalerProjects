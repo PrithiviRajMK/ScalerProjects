{
  "nbformat": 4,
  "nbformat_minor": 0,
  "metadata": {
    "colab": {
      "provenance": [],
      "include_colab_link": true
    },
    "kernelspec": {
      "name": "python3",
      "display_name": "Python 3"
    },
    "language_info": {
      "name": "python"
    }
  },
  "cells": [
    {
      "cell_type": "markdown",
      "metadata": {
        "id": "view-in-github",
        "colab_type": "text"
      },
      "source": [
        "<a href=\"https://colab.research.google.com/github/PrithiviRajMK/ScalerProjects/blob/main/FlipitNews_NLP.ipynb\" target=\"_parent\"><img src=\"https://colab.research.google.com/assets/colab-badge.svg\" alt=\"Open In Colab\"/></a>"
      ]
    },
    {
      "cell_type": "markdown",
      "source": [
        "\n",
        "The Gurugram-based company ‘FlipItNews’ aims to revolutionize the way Indians perceive finance, business, and capital market investment, by giving it a boost through artificial intelligence (AI) and machine learning (ML). They’re on a mission to reinvent financial literacy for Indians, where financial awareness is driven by smart information discovery and engagement with peers. Through their smart content discovery and contextual engagement, the company is simplifying business, finance, and investment for millennials and first-time investors\n",
        "\n",
        "## Objective:\n",
        "The goal of this project is to identify & categorize the news articles into several categories like politics, technology, sports, business and entertainment based on their content using a bunch of news articles extracted from the companies’ internal database."
      ],
      "metadata": {
        "id": "AaucdpOafiMs"
      }
    },
    {
      "cell_type": "markdown",
      "source": [
        "### Import Required Libraries"
      ],
      "metadata": {
        "id": "Re2IZtcUgDmn"
      }
    },
    {
      "cell_type": "code",
      "source": [
        "# Import the libraries\n",
        "\n",
        "# For reading & manipulating the data\n",
        "import pandas as pd\n",
        "import numpy as np\n",
        "import matplotlib.pyplot as plt\n",
        "import seaborn as sns\n",
        "import warnings\n",
        "warnings.filterwarnings('ignore')\n",
        "import re\n",
        "#Natural Language Processing\n",
        "import nltk\n",
        "#tokenization\n",
        "from nltk.tokenize import word_tokenize\n",
        "nltk.download('punkt')\n",
        "#stopwords\n",
        "from nltk.corpus import stopwords\n",
        "nltk.download('stopwords')\n",
        "#Lemmetization\n",
        "from nltk import WordNetLemmatizer\n",
        "nltk.download('wordnet')\n",
        "#BoW & TF-IDF\n",
        "from sklearn.feature_extraction.text import CountVectorizer, TfidfVectorizer\n",
        "\n",
        "# For encoding the categorical variable\n",
        "!pip install category_encoders\n",
        "import category_encoders as ce\n",
        "\n",
        "# To try out different ML models\n",
        "from sklearn.tree import DecisionTreeClassifier\n",
        "from sklearn.neighbors import KNeighborsClassifier\n",
        "from sklearn.naive_bayes import MultinomialNB\n",
        "from sklearn.ensemble import RandomForestClassifier\n",
        "\n",
        "# To perform train-test split\n",
        "from sklearn.model_selection import train_test_split\n",
        "\n",
        "# Performace Metrics for evaluating the model\n",
        "from sklearn.metrics import accuracy_score, roc_auc_score, f1_score, precision_score, recall_score\n",
        "from sklearn.metrics import confusion_matrix, classification_report\n"
      ],
      "metadata": {
        "colab": {
          "base_uri": "https://localhost:8080/"
        },
        "id": "QCEiTNTu1ap9",
        "outputId": "627b3893-81e2-4268-9879-4cd667452647"
      },
      "execution_count": null,
      "outputs": [
        {
          "output_type": "stream",
          "name": "stderr",
          "text": [
            "[nltk_data] Downloading package punkt to /root/nltk_data...\n",
            "[nltk_data]   Unzipping tokenizers/punkt.zip.\n",
            "[nltk_data] Downloading package stopwords to /root/nltk_data...\n",
            "[nltk_data]   Unzipping corpora/stopwords.zip.\n",
            "[nltk_data] Downloading package wordnet to /root/nltk_data...\n"
          ]
        },
        {
          "output_type": "stream",
          "name": "stdout",
          "text": [
            "Collecting category_encoders\n",
            "  Downloading category_encoders-2.6.1-py2.py3-none-any.whl (81 kB)\n",
            "\u001b[?25l     \u001b[90m━━━━━━━━━━━━━━━━━━━━━━━━━━━━━━━━━━━━━━━━\u001b[0m \u001b[32m0.0/81.9 kB\u001b[0m \u001b[31m?\u001b[0m eta \u001b[36m-:--:--\u001b[0m\r\u001b[2K     \u001b[90m━━━━━━━━━━━━━━━━━━━━━━━━━━━━━━━━━━━━━━━━\u001b[0m \u001b[32m81.9/81.9 kB\u001b[0m \u001b[31m3.0 MB/s\u001b[0m eta \u001b[36m0:00:00\u001b[0m\n",
            "\u001b[?25hRequirement already satisfied: numpy>=1.14.0 in /usr/local/lib/python3.10/dist-packages (from category_encoders) (1.22.4)\n",
            "Requirement already satisfied: scikit-learn>=0.20.0 in /usr/local/lib/python3.10/dist-packages (from category_encoders) (1.2.2)\n",
            "Requirement already satisfied: scipy>=1.0.0 in /usr/local/lib/python3.10/dist-packages (from category_encoders) (1.10.1)\n",
            "Requirement already satisfied: statsmodels>=0.9.0 in /usr/local/lib/python3.10/dist-packages (from category_encoders) (0.13.5)\n",
            "Requirement already satisfied: pandas>=1.0.5 in /usr/local/lib/python3.10/dist-packages (from category_encoders) (1.5.3)\n",
            "Requirement already satisfied: patsy>=0.5.1 in /usr/local/lib/python3.10/dist-packages (from category_encoders) (0.5.3)\n",
            "Requirement already satisfied: python-dateutil>=2.8.1 in /usr/local/lib/python3.10/dist-packages (from pandas>=1.0.5->category_encoders) (2.8.2)\n",
            "Requirement already satisfied: pytz>=2020.1 in /usr/local/lib/python3.10/dist-packages (from pandas>=1.0.5->category_encoders) (2022.7.1)\n",
            "Requirement already satisfied: six in /usr/local/lib/python3.10/dist-packages (from patsy>=0.5.1->category_encoders) (1.16.0)\n",
            "Requirement already satisfied: joblib>=1.1.1 in /usr/local/lib/python3.10/dist-packages (from scikit-learn>=0.20.0->category_encoders) (1.3.1)\n",
            "Requirement already satisfied: threadpoolctl>=2.0.0 in /usr/local/lib/python3.10/dist-packages (from scikit-learn>=0.20.0->category_encoders) (3.1.0)\n",
            "Requirement already satisfied: packaging>=21.3 in /usr/local/lib/python3.10/dist-packages (from statsmodels>=0.9.0->category_encoders) (23.1)\n",
            "Installing collected packages: category_encoders\n",
            "Successfully installed category_encoders-2.6.1\n"
          ]
        }
      ]
    },
    {
      "cell_type": "code",
      "source": [
        "from google.colab import drive\n",
        "drive.mount('/content/drive')"
      ],
      "metadata": {
        "colab": {
          "base_uri": "https://localhost:8080/"
        },
        "id": "BziQcDbm_WHS",
        "outputId": "78d48fff-8f51-472b-e4f8-f1c280d8df12"
      },
      "execution_count": null,
      "outputs": [
        {
          "output_type": "stream",
          "name": "stdout",
          "text": [
            "Mounted at /content/drive\n"
          ]
        }
      ]
    },
    {
      "cell_type": "code",
      "source": [
        "# Load the dataset\n",
        "data_df = pd.read_csv('/flipitnews-data.csv')"
      ],
      "metadata": {
        "id": "MuhBhwmCBw4W"
      },
      "execution_count": null,
      "outputs": []
    },
    {
      "cell_type": "code",
      "source": [
        "# Shape of the dataset\n",
        "print(\"Dataset contains {0} Rows and {1} Columns\".format(data_df.shape[0], data_df.shape[1]))"
      ],
      "metadata": {
        "colab": {
          "base_uri": "https://localhost:8080/"
        },
        "id": "cgXH71sNvvJB",
        "outputId": "5e27311e-a517-49be-f3f3-c96f3fd901c2"
      },
      "execution_count": null,
      "outputs": [
        {
          "output_type": "stream",
          "name": "stdout",
          "text": [
            "Dataset contains 2225 Rows and 2 Columns\n"
          ]
        }
      ]
    },
    {
      "cell_type": "code",
      "source": [
        "data_df.head()"
      ],
      "metadata": {
        "colab": {
          "base_uri": "https://localhost:8080/",
          "height": 206
        },
        "id": "MubSkZtzv-kJ",
        "outputId": "8ae5c8bd-baea-4977-9ac9-14585a853742"
      },
      "execution_count": null,
      "outputs": [
        {
          "output_type": "execute_result",
          "data": {
            "text/plain": [
              "        Category                                            Article\n",
              "0     Technology  tv future in the hands of viewers with home th...\n",
              "1       Business  worldcom boss  left books alone  former worldc...\n",
              "2         Sports  tigers wary of farrell  gamble  leicester say ...\n",
              "3         Sports  yeading face newcastle in fa cup premiership s...\n",
              "4  Entertainment  ocean s twelve raids box office ocean s twelve..."
            ],
            "text/html": [
              "\n",
              "\n",
              "  <div id=\"df-6430a9e0-c9db-47ce-a6aa-765092d995f3\">\n",
              "    <div class=\"colab-df-container\">\n",
              "      <div>\n",
              "<style scoped>\n",
              "    .dataframe tbody tr th:only-of-type {\n",
              "        vertical-align: middle;\n",
              "    }\n",
              "\n",
              "    .dataframe tbody tr th {\n",
              "        vertical-align: top;\n",
              "    }\n",
              "\n",
              "    .dataframe thead th {\n",
              "        text-align: right;\n",
              "    }\n",
              "</style>\n",
              "<table border=\"1\" class=\"dataframe\">\n",
              "  <thead>\n",
              "    <tr style=\"text-align: right;\">\n",
              "      <th></th>\n",
              "      <th>Category</th>\n",
              "      <th>Article</th>\n",
              "    </tr>\n",
              "  </thead>\n",
              "  <tbody>\n",
              "    <tr>\n",
              "      <th>0</th>\n",
              "      <td>Technology</td>\n",
              "      <td>tv future in the hands of viewers with home th...</td>\n",
              "    </tr>\n",
              "    <tr>\n",
              "      <th>1</th>\n",
              "      <td>Business</td>\n",
              "      <td>worldcom boss  left books alone  former worldc...</td>\n",
              "    </tr>\n",
              "    <tr>\n",
              "      <th>2</th>\n",
              "      <td>Sports</td>\n",
              "      <td>tigers wary of farrell  gamble  leicester say ...</td>\n",
              "    </tr>\n",
              "    <tr>\n",
              "      <th>3</th>\n",
              "      <td>Sports</td>\n",
              "      <td>yeading face newcastle in fa cup premiership s...</td>\n",
              "    </tr>\n",
              "    <tr>\n",
              "      <th>4</th>\n",
              "      <td>Entertainment</td>\n",
              "      <td>ocean s twelve raids box office ocean s twelve...</td>\n",
              "    </tr>\n",
              "  </tbody>\n",
              "</table>\n",
              "</div>\n",
              "      <button class=\"colab-df-convert\" onclick=\"convertToInteractive('df-6430a9e0-c9db-47ce-a6aa-765092d995f3')\"\n",
              "              title=\"Convert this dataframe to an interactive table.\"\n",
              "              style=\"display:none;\">\n",
              "\n",
              "  <svg xmlns=\"http://www.w3.org/2000/svg\" height=\"24px\"viewBox=\"0 0 24 24\"\n",
              "       width=\"24px\">\n",
              "    <path d=\"M0 0h24v24H0V0z\" fill=\"none\"/>\n",
              "    <path d=\"M18.56 5.44l.94 2.06.94-2.06 2.06-.94-2.06-.94-.94-2.06-.94 2.06-2.06.94zm-11 1L8.5 8.5l.94-2.06 2.06-.94-2.06-.94L8.5 2.5l-.94 2.06-2.06.94zm10 10l.94 2.06.94-2.06 2.06-.94-2.06-.94-.94-2.06-.94 2.06-2.06.94z\"/><path d=\"M17.41 7.96l-1.37-1.37c-.4-.4-.92-.59-1.43-.59-.52 0-1.04.2-1.43.59L10.3 9.45l-7.72 7.72c-.78.78-.78 2.05 0 2.83L4 21.41c.39.39.9.59 1.41.59.51 0 1.02-.2 1.41-.59l7.78-7.78 2.81-2.81c.8-.78.8-2.07 0-2.86zM5.41 20L4 18.59l7.72-7.72 1.47 1.35L5.41 20z\"/>\n",
              "  </svg>\n",
              "      </button>\n",
              "\n",
              "\n",
              "\n",
              "    <div id=\"df-e10bfd3b-8d4e-40ae-8b39-3ea763251ffd\">\n",
              "      <button class=\"colab-df-quickchart\" onclick=\"quickchart('df-e10bfd3b-8d4e-40ae-8b39-3ea763251ffd')\"\n",
              "              title=\"Suggest charts.\"\n",
              "              style=\"display:none;\">\n",
              "\n",
              "<svg xmlns=\"http://www.w3.org/2000/svg\" height=\"24px\"viewBox=\"0 0 24 24\"\n",
              "     width=\"24px\">\n",
              "    <g>\n",
              "        <path d=\"M19 3H5c-1.1 0-2 .9-2 2v14c0 1.1.9 2 2 2h14c1.1 0 2-.9 2-2V5c0-1.1-.9-2-2-2zM9 17H7v-7h2v7zm4 0h-2V7h2v10zm4 0h-2v-4h2v4z\"/>\n",
              "    </g>\n",
              "</svg>\n",
              "      </button>\n",
              "    </div>\n",
              "\n",
              "<style>\n",
              "  .colab-df-quickchart {\n",
              "    background-color: #E8F0FE;\n",
              "    border: none;\n",
              "    border-radius: 50%;\n",
              "    cursor: pointer;\n",
              "    display: none;\n",
              "    fill: #1967D2;\n",
              "    height: 32px;\n",
              "    padding: 0 0 0 0;\n",
              "    width: 32px;\n",
              "  }\n",
              "\n",
              "  .colab-df-quickchart:hover {\n",
              "    background-color: #E2EBFA;\n",
              "    box-shadow: 0px 1px 2px rgba(60, 64, 67, 0.3), 0px 1px 3px 1px rgba(60, 64, 67, 0.15);\n",
              "    fill: #174EA6;\n",
              "  }\n",
              "\n",
              "  [theme=dark] .colab-df-quickchart {\n",
              "    background-color: #3B4455;\n",
              "    fill: #D2E3FC;\n",
              "  }\n",
              "\n",
              "  [theme=dark] .colab-df-quickchart:hover {\n",
              "    background-color: #434B5C;\n",
              "    box-shadow: 0px 1px 3px 1px rgba(0, 0, 0, 0.15);\n",
              "    filter: drop-shadow(0px 1px 2px rgba(0, 0, 0, 0.3));\n",
              "    fill: #FFFFFF;\n",
              "  }\n",
              "</style>\n",
              "\n",
              "    <script>\n",
              "      async function quickchart(key) {\n",
              "        const containerElement = document.querySelector('#' + key);\n",
              "        const charts = await google.colab.kernel.invokeFunction(\n",
              "            'suggestCharts', [key], {});\n",
              "      }\n",
              "    </script>\n",
              "\n",
              "      <script>\n",
              "\n",
              "function displayQuickchartButton(domScope) {\n",
              "  let quickchartButtonEl =\n",
              "    domScope.querySelector('#df-e10bfd3b-8d4e-40ae-8b39-3ea763251ffd button.colab-df-quickchart');\n",
              "  quickchartButtonEl.style.display =\n",
              "    google.colab.kernel.accessAllowed ? 'block' : 'none';\n",
              "}\n",
              "\n",
              "        displayQuickchartButton(document);\n",
              "      </script>\n",
              "      <style>\n",
              "    .colab-df-container {\n",
              "      display:flex;\n",
              "      flex-wrap:wrap;\n",
              "      gap: 12px;\n",
              "    }\n",
              "\n",
              "    .colab-df-convert {\n",
              "      background-color: #E8F0FE;\n",
              "      border: none;\n",
              "      border-radius: 50%;\n",
              "      cursor: pointer;\n",
              "      display: none;\n",
              "      fill: #1967D2;\n",
              "      height: 32px;\n",
              "      padding: 0 0 0 0;\n",
              "      width: 32px;\n",
              "    }\n",
              "\n",
              "    .colab-df-convert:hover {\n",
              "      background-color: #E2EBFA;\n",
              "      box-shadow: 0px 1px 2px rgba(60, 64, 67, 0.3), 0px 1px 3px 1px rgba(60, 64, 67, 0.15);\n",
              "      fill: #174EA6;\n",
              "    }\n",
              "\n",
              "    [theme=dark] .colab-df-convert {\n",
              "      background-color: #3B4455;\n",
              "      fill: #D2E3FC;\n",
              "    }\n",
              "\n",
              "    [theme=dark] .colab-df-convert:hover {\n",
              "      background-color: #434B5C;\n",
              "      box-shadow: 0px 1px 3px 1px rgba(0, 0, 0, 0.15);\n",
              "      filter: drop-shadow(0px 1px 2px rgba(0, 0, 0, 0.3));\n",
              "      fill: #FFFFFF;\n",
              "    }\n",
              "  </style>\n",
              "\n",
              "      <script>\n",
              "        const buttonEl =\n",
              "          document.querySelector('#df-6430a9e0-c9db-47ce-a6aa-765092d995f3 button.colab-df-convert');\n",
              "        buttonEl.style.display =\n",
              "          google.colab.kernel.accessAllowed ? 'block' : 'none';\n",
              "\n",
              "        async function convertToInteractive(key) {\n",
              "          const element = document.querySelector('#df-6430a9e0-c9db-47ce-a6aa-765092d995f3');\n",
              "          const dataTable =\n",
              "            await google.colab.kernel.invokeFunction('convertToInteractive',\n",
              "                                                     [key], {});\n",
              "          if (!dataTable) return;\n",
              "\n",
              "          const docLinkHtml = 'Like what you see? Visit the ' +\n",
              "            '<a target=\"_blank\" href=https://colab.research.google.com/notebooks/data_table.ipynb>data table notebook</a>'\n",
              "            + ' to learn more about interactive tables.';\n",
              "          element.innerHTML = '';\n",
              "          dataTable['output_type'] = 'display_data';\n",
              "          await google.colab.output.renderOutput(dataTable, element);\n",
              "          const docLink = document.createElement('div');\n",
              "          docLink.innerHTML = docLinkHtml;\n",
              "          element.appendChild(docLink);\n",
              "        }\n",
              "      </script>\n",
              "    </div>\n",
              "  </div>\n"
            ]
          },
          "metadata": {},
          "execution_count": 6
        }
      ]
    },
    {
      "cell_type": "code",
      "source": [
        "data_df.info"
      ],
      "metadata": {
        "colab": {
          "base_uri": "https://localhost:8080/"
        },
        "id": "Vkg6_Tj3v-g7",
        "outputId": "7b0ec4ee-781d-4def-e8e3-466d241e8545"
      },
      "execution_count": null,
      "outputs": [
        {
          "output_type": "execute_result",
          "data": {
            "text/plain": [
              "<bound method DataFrame.info of            Category                                            Article\n",
              "0        Technology  tv future in the hands of viewers with home th...\n",
              "1          Business  worldcom boss  left books alone  former worldc...\n",
              "2            Sports  tigers wary of farrell  gamble  leicester say ...\n",
              "3            Sports  yeading face newcastle in fa cup premiership s...\n",
              "4     Entertainment  ocean s twelve raids box office ocean s twelve...\n",
              "...             ...                                                ...\n",
              "2220       Business  cars pull down us retail figures us retail sal...\n",
              "2221       Politics  kilroy unveils immigration policy ex-chatshow ...\n",
              "2222  Entertainment  rem announce new glasgow concert us band rem h...\n",
              "2223       Politics  how political squabbles snowball it s become c...\n",
              "2224         Sports  souness delight at euro progress boss graeme s...\n",
              "\n",
              "[2225 rows x 2 columns]>"
            ]
          },
          "metadata": {},
          "execution_count": 7
        }
      ]
    },
    {
      "cell_type": "code",
      "source": [
        "data_df.describe()"
      ],
      "metadata": {
        "colab": {
          "base_uri": "https://localhost:8080/",
          "height": 175
        },
        "id": "XCBmHAGlwDz6",
        "outputId": "3722b121-c203-4121-feb2-2c83e9baf2bc"
      },
      "execution_count": null,
      "outputs": [
        {
          "output_type": "execute_result",
          "data": {
            "text/plain": [
              "       Category                                            Article\n",
              "count      2225                                               2225\n",
              "unique        5                                               2126\n",
              "top      Sports  kennedy questions trust of blair lib dem leade...\n",
              "freq        511                                                  2"
            ],
            "text/html": [
              "\n",
              "\n",
              "  <div id=\"df-f126dc9c-31f4-42c9-a3ac-185a6126f157\">\n",
              "    <div class=\"colab-df-container\">\n",
              "      <div>\n",
              "<style scoped>\n",
              "    .dataframe tbody tr th:only-of-type {\n",
              "        vertical-align: middle;\n",
              "    }\n",
              "\n",
              "    .dataframe tbody tr th {\n",
              "        vertical-align: top;\n",
              "    }\n",
              "\n",
              "    .dataframe thead th {\n",
              "        text-align: right;\n",
              "    }\n",
              "</style>\n",
              "<table border=\"1\" class=\"dataframe\">\n",
              "  <thead>\n",
              "    <tr style=\"text-align: right;\">\n",
              "      <th></th>\n",
              "      <th>Category</th>\n",
              "      <th>Article</th>\n",
              "    </tr>\n",
              "  </thead>\n",
              "  <tbody>\n",
              "    <tr>\n",
              "      <th>count</th>\n",
              "      <td>2225</td>\n",
              "      <td>2225</td>\n",
              "    </tr>\n",
              "    <tr>\n",
              "      <th>unique</th>\n",
              "      <td>5</td>\n",
              "      <td>2126</td>\n",
              "    </tr>\n",
              "    <tr>\n",
              "      <th>top</th>\n",
              "      <td>Sports</td>\n",
              "      <td>kennedy questions trust of blair lib dem leade...</td>\n",
              "    </tr>\n",
              "    <tr>\n",
              "      <th>freq</th>\n",
              "      <td>511</td>\n",
              "      <td>2</td>\n",
              "    </tr>\n",
              "  </tbody>\n",
              "</table>\n",
              "</div>\n",
              "      <button class=\"colab-df-convert\" onclick=\"convertToInteractive('df-f126dc9c-31f4-42c9-a3ac-185a6126f157')\"\n",
              "              title=\"Convert this dataframe to an interactive table.\"\n",
              "              style=\"display:none;\">\n",
              "\n",
              "  <svg xmlns=\"http://www.w3.org/2000/svg\" height=\"24px\"viewBox=\"0 0 24 24\"\n",
              "       width=\"24px\">\n",
              "    <path d=\"M0 0h24v24H0V0z\" fill=\"none\"/>\n",
              "    <path d=\"M18.56 5.44l.94 2.06.94-2.06 2.06-.94-2.06-.94-.94-2.06-.94 2.06-2.06.94zm-11 1L8.5 8.5l.94-2.06 2.06-.94-2.06-.94L8.5 2.5l-.94 2.06-2.06.94zm10 10l.94 2.06.94-2.06 2.06-.94-2.06-.94-.94-2.06-.94 2.06-2.06.94z\"/><path d=\"M17.41 7.96l-1.37-1.37c-.4-.4-.92-.59-1.43-.59-.52 0-1.04.2-1.43.59L10.3 9.45l-7.72 7.72c-.78.78-.78 2.05 0 2.83L4 21.41c.39.39.9.59 1.41.59.51 0 1.02-.2 1.41-.59l7.78-7.78 2.81-2.81c.8-.78.8-2.07 0-2.86zM5.41 20L4 18.59l7.72-7.72 1.47 1.35L5.41 20z\"/>\n",
              "  </svg>\n",
              "      </button>\n",
              "\n",
              "\n",
              "\n",
              "    <div id=\"df-0253a441-3955-4983-8995-e28b69291e4b\">\n",
              "      <button class=\"colab-df-quickchart\" onclick=\"quickchart('df-0253a441-3955-4983-8995-e28b69291e4b')\"\n",
              "              title=\"Suggest charts.\"\n",
              "              style=\"display:none;\">\n",
              "\n",
              "<svg xmlns=\"http://www.w3.org/2000/svg\" height=\"24px\"viewBox=\"0 0 24 24\"\n",
              "     width=\"24px\">\n",
              "    <g>\n",
              "        <path d=\"M19 3H5c-1.1 0-2 .9-2 2v14c0 1.1.9 2 2 2h14c1.1 0 2-.9 2-2V5c0-1.1-.9-2-2-2zM9 17H7v-7h2v7zm4 0h-2V7h2v10zm4 0h-2v-4h2v4z\"/>\n",
              "    </g>\n",
              "</svg>\n",
              "      </button>\n",
              "    </div>\n",
              "\n",
              "<style>\n",
              "  .colab-df-quickchart {\n",
              "    background-color: #E8F0FE;\n",
              "    border: none;\n",
              "    border-radius: 50%;\n",
              "    cursor: pointer;\n",
              "    display: none;\n",
              "    fill: #1967D2;\n",
              "    height: 32px;\n",
              "    padding: 0 0 0 0;\n",
              "    width: 32px;\n",
              "  }\n",
              "\n",
              "  .colab-df-quickchart:hover {\n",
              "    background-color: #E2EBFA;\n",
              "    box-shadow: 0px 1px 2px rgba(60, 64, 67, 0.3), 0px 1px 3px 1px rgba(60, 64, 67, 0.15);\n",
              "    fill: #174EA6;\n",
              "  }\n",
              "\n",
              "  [theme=dark] .colab-df-quickchart {\n",
              "    background-color: #3B4455;\n",
              "    fill: #D2E3FC;\n",
              "  }\n",
              "\n",
              "  [theme=dark] .colab-df-quickchart:hover {\n",
              "    background-color: #434B5C;\n",
              "    box-shadow: 0px 1px 3px 1px rgba(0, 0, 0, 0.15);\n",
              "    filter: drop-shadow(0px 1px 2px rgba(0, 0, 0, 0.3));\n",
              "    fill: #FFFFFF;\n",
              "  }\n",
              "</style>\n",
              "\n",
              "    <script>\n",
              "      async function quickchart(key) {\n",
              "        const containerElement = document.querySelector('#' + key);\n",
              "        const charts = await google.colab.kernel.invokeFunction(\n",
              "            'suggestCharts', [key], {});\n",
              "      }\n",
              "    </script>\n",
              "\n",
              "      <script>\n",
              "\n",
              "function displayQuickchartButton(domScope) {\n",
              "  let quickchartButtonEl =\n",
              "    domScope.querySelector('#df-0253a441-3955-4983-8995-e28b69291e4b button.colab-df-quickchart');\n",
              "  quickchartButtonEl.style.display =\n",
              "    google.colab.kernel.accessAllowed ? 'block' : 'none';\n",
              "}\n",
              "\n",
              "        displayQuickchartButton(document);\n",
              "      </script>\n",
              "      <style>\n",
              "    .colab-df-container {\n",
              "      display:flex;\n",
              "      flex-wrap:wrap;\n",
              "      gap: 12px;\n",
              "    }\n",
              "\n",
              "    .colab-df-convert {\n",
              "      background-color: #E8F0FE;\n",
              "      border: none;\n",
              "      border-radius: 50%;\n",
              "      cursor: pointer;\n",
              "      display: none;\n",
              "      fill: #1967D2;\n",
              "      height: 32px;\n",
              "      padding: 0 0 0 0;\n",
              "      width: 32px;\n",
              "    }\n",
              "\n",
              "    .colab-df-convert:hover {\n",
              "      background-color: #E2EBFA;\n",
              "      box-shadow: 0px 1px 2px rgba(60, 64, 67, 0.3), 0px 1px 3px 1px rgba(60, 64, 67, 0.15);\n",
              "      fill: #174EA6;\n",
              "    }\n",
              "\n",
              "    [theme=dark] .colab-df-convert {\n",
              "      background-color: #3B4455;\n",
              "      fill: #D2E3FC;\n",
              "    }\n",
              "\n",
              "    [theme=dark] .colab-df-convert:hover {\n",
              "      background-color: #434B5C;\n",
              "      box-shadow: 0px 1px 3px 1px rgba(0, 0, 0, 0.15);\n",
              "      filter: drop-shadow(0px 1px 2px rgba(0, 0, 0, 0.3));\n",
              "      fill: #FFFFFF;\n",
              "    }\n",
              "  </style>\n",
              "\n",
              "      <script>\n",
              "        const buttonEl =\n",
              "          document.querySelector('#df-f126dc9c-31f4-42c9-a3ac-185a6126f157 button.colab-df-convert');\n",
              "        buttonEl.style.display =\n",
              "          google.colab.kernel.accessAllowed ? 'block' : 'none';\n",
              "\n",
              "        async function convertToInteractive(key) {\n",
              "          const element = document.querySelector('#df-f126dc9c-31f4-42c9-a3ac-185a6126f157');\n",
              "          const dataTable =\n",
              "            await google.colab.kernel.invokeFunction('convertToInteractive',\n",
              "                                                     [key], {});\n",
              "          if (!dataTable) return;\n",
              "\n",
              "          const docLinkHtml = 'Like what you see? Visit the ' +\n",
              "            '<a target=\"_blank\" href=https://colab.research.google.com/notebooks/data_table.ipynb>data table notebook</a>'\n",
              "            + ' to learn more about interactive tables.';\n",
              "          element.innerHTML = '';\n",
              "          dataTable['output_type'] = 'display_data';\n",
              "          await google.colab.output.renderOutput(dataTable, element);\n",
              "          const docLink = document.createElement('div');\n",
              "          docLink.innerHTML = docLinkHtml;\n",
              "          element.appendChild(docLink);\n",
              "        }\n",
              "      </script>\n",
              "    </div>\n",
              "  </div>\n"
            ]
          },
          "metadata": {},
          "execution_count": 8
        }
      ]
    },
    {
      "cell_type": "code",
      "source": [
        "data_df.nunique()"
      ],
      "metadata": {
        "colab": {
          "base_uri": "https://localhost:8080/"
        },
        "id": "Fb5qvi_iuTgl",
        "outputId": "2b1fa684-e69a-48c7-fb47-f6492d572f83"
      },
      "execution_count": null,
      "outputs": [
        {
          "output_type": "execute_result",
          "data": {
            "text/plain": [
              "Category       5\n",
              "Article     2126\n",
              "dtype: int64"
            ]
          },
          "metadata": {},
          "execution_count": 9
        }
      ]
    },
    {
      "cell_type": "code",
      "source": [
        "# Check the distribution of categories\n",
        "def unique_values(df):\n",
        "  print(\"---- Analysing Categorical Variables ----\\n\")\n",
        "  for col in df.astype('object').columns:\n",
        "    if len(df[col].value_counts())<10:\n",
        "      print(df[col].value_counts().to_string(),'\\n')\n",
        "\n",
        "unique_values(data_df)\n"
      ],
      "metadata": {
        "colab": {
          "base_uri": "https://localhost:8080/"
        },
        "id": "yAXKilvUusBF",
        "outputId": "f1c8c367-0469-4965-e39b-db1a0263e398"
      },
      "execution_count": null,
      "outputs": [
        {
          "output_type": "stream",
          "name": "stdout",
          "text": [
            "---- Analysing Categorical Variables ----\n",
            "\n",
            "Sports           511\n",
            "Business         510\n",
            "Politics         417\n",
            "Technology       401\n",
            "Entertainment    386 \n",
            "\n"
          ]
        }
      ]
    },
    {
      "cell_type": "code",
      "source": [
        "plt.figure(figsize=(8,5))\n",
        "ax = sns.countplot(x='Category', data=data_df)\n",
        "ax.bar_label(ax.containers[0])\n",
        "ax.set_title('Distribution of Categories')\n",
        "ax.set_ylabel('# of Articles')\n",
        "plt.show()\n"
      ],
      "metadata": {
        "id": "RV_pWUl6ur9S",
        "colab": {
          "base_uri": "https://localhost:8080/",
          "height": 487
        },
        "outputId": "3f072f04-6143-4353-929c-e67fbb789be5"
      },
      "execution_count": null,
      "outputs": [
        {
          "output_type": "display_data",
          "data": {
            "text/plain": [
              "<Figure size 800x500 with 1 Axes>"
            ],
            "image/png": "[encoded data removed]"
          },
          "metadata": {}
        }
      ]
    },
    {
      "cell_type": "code",
      "source": [
        "# Viewing Article - before Text Processing\n",
        "data_df['Article'][3]"
      ],
      "metadata": {
        "colab": {
          "base_uri": "https://localhost:8080/",
          "height": 140
        },
        "id": "rnk7a1tvkw2M",
        "outputId": "d13d7911-1363-4204-ce48-e32349a4c86e"
      },
      "execution_count": null,
      "outputs": [
        {
          "output_type": "execute_result",
          "data": {
            "text/plain": [
              "'yeading face newcastle in fa cup premiership side newcastle united face a trip to ryman premier league leaders yeading in the fa cup third round.  the game - arguably the highlight of the draw - is a potential money-spinner for non-league yeading  who beat slough in the second round. conference side exeter city  who knocked out doncaster on saturday  will travel to old trafford to meet holders manchester united in january. arsenal were drawn at home to stoke and chelsea will play host to scunthorpe. the only other non-league side in the draw are hinckley united  who held brentford to a goalless draw on sunday. they will meet league one leaders luton if they win their replay against martin allen s team at griffin park.  a number of premiership teams face difficult away games against championship sides on the weekend of 8/9 january. third-placed everton visit plymouth  liverpool travel to burnley  crystal palace go to sunderland  fulham face carling cup semi-finalists watford  bolton meet ipswich  while aston villa were drawn against sheffield united. premiership strugglers norwich  blackburn  west brom are away at west ham  cardiff and preston north end respectively. southampton visit northampton  having already beaten the league two side in the carling cup earlier this season. middlesbrough were drawn away against either swindon or notts county  while spurs entertain brighton at white hart lane.  arsenal v stoke  swindon/notts co v middlesbrough  man utd v exeter  plymouth v everton  leicester v blackpool  derby v wigan  sunderland v crystal palace  wolves v millwall  yeading v newcastle  hull v colchester  tottenham v brighton  reading v stockport/swansea  birmingham v leeds  hartlepool v boston  milton keynes dons v peterborough  oldham v man city  chelsea v scunthorpe  cardiff v blackburn  charlton v rochdale  west ham v norwich  sheff utd v aston villa  preston v west brom  rotherham v yeovil  burnley v liverpool  bournemouth v chester  coventry v crewe  watford v fulham  ipswich v bolton  portsmouth v gillingham  northampton v southampton  qpr v nottm forest  luton v hinckley/brentford  matches to be played on weekend of 8/9 january.'"
            ],
            "application/vnd.google.colaboratory.intrinsic+json": {
              "type": "string"
            }
          },
          "metadata": {},
          "execution_count": 14
        }
      ]
    },
    {
      "cell_type": "markdown",
      "source": [
        "##### - Single news article before text processing looks like this. It is observed that the text is already in lower case."
      ],
      "metadata": {
        "id": "ziTixDTltscI"
      }
    },
    {
      "cell_type": "markdown",
      "source": [
        "### Pre-process & Clean the Data\n",
        "\n",
        "The major steps in cleaning the Text Data are:\n",
        "*   Removing the Punctuations (like , . ! etc.,)\n",
        "*   Converting the text to lower/upper case\n",
        "*   Removing the stop words (frequently occurring words like a, an, the, etc.,)\n",
        "*   Removing non-sensical words (“/n”, etc.,)\n",
        "*   Tokenize the text\n",
        "*   Stemming & Lemmatization\n",
        "*   Normalize the text using Text Normalizers\n",
        "*   Typo correction\n",
        "\n"
      ],
      "metadata": {
        "id": "2RdjxCtDNJaG"
      }
    },
    {
      "cell_type": "code",
      "source": [
        "stop_words = list(stopwords.words('english'))"
      ],
      "metadata": {
        "id": "OxWXKceMseAS"
      },
      "execution_count": null,
      "outputs": []
    },
    {
      "cell_type": "code",
      "source": [
        "def preprocess_text(sent):\n",
        "  # Remove non-characters\n",
        "  sent = re.sub('[^a-zA-Z]', ' ', sent)\n",
        "\n",
        "  # Tokenize the Text into Words\n",
        "  words = nltk.word_tokenize(sent)\n",
        "\n",
        "  # Remove the stop words\n",
        "  filtered_sent = [w for w in words if not w in stop_words]\n",
        "\n",
        "  # Lemmatization\n",
        "  lemmatizer = WordNetLemmatizer()\n",
        "  new_text = [lemmatizer.lemmatize(word) for word in filtered_sent]\n",
        "  new_text = ' '.join(new_text)\n",
        "\n",
        "  return new_text"
      ],
      "metadata": {
        "id": "CJbR4xePzNoC"
      },
      "execution_count": null,
      "outputs": []
    },
    {
      "cell_type": "code",
      "source": [
        "data_df['Preprocessed_Article'] = data_df['Article'].apply(preprocess_text)"
      ],
      "metadata": {
        "id": "udR17d4K164Y"
      },
      "execution_count": null,
      "outputs": []
    },
    {
      "cell_type": "code",
      "source": [
        "data_df.describe()"
      ],
      "metadata": {
        "colab": {
          "base_uri": "https://localhost:8080/",
          "height": 175
        },
        "id": "p6lxrXUMh2bk",
        "outputId": "42ffb7e8-c10d-4c9c-f555-4581b7477403"
      },
      "execution_count": null,
      "outputs": [
        {
          "output_type": "execute_result",
          "data": {
            "text/plain": [
              "       Category                                            Article  \\\n",
              "count      2225                                               2225   \n",
              "unique        5                                               2126   \n",
              "top      Sports  kennedy questions trust of blair lib dem leade...   \n",
              "freq        511                                                  2   \n",
              "\n",
              "                                     Preprocessed_Article  \n",
              "count                                                2225  \n",
              "unique                                               2117  \n",
              "top     microsoft get blogging bug software giant micr...  \n",
              "freq                                                    2  "
            ],
            "text/html": [
              "\n",
              "\n",
              "  <div id=\"df-52bfcff0-8559-4042-ad25-e1ec532cf139\">\n",
              "    <div class=\"colab-df-container\">\n",
              "      <div>\n",
              "<style scoped>\n",
              "    .dataframe tbody tr th:only-of-type {\n",
              "        vertical-align: middle;\n",
              "    }\n",
              "\n",
              "    .dataframe tbody tr th {\n",
              "        vertical-align: top;\n",
              "    }\n",
              "\n",
              "    .dataframe thead th {\n",
              "        text-align: right;\n",
              "    }\n",
              "</style>\n",
              "<table border=\"1\" class=\"dataframe\">\n",
              "  <thead>\n",
              "    <tr style=\"text-align: right;\">\n",
              "      <th></th>\n",
              "      <th>Category</th>\n",
              "      <th>Article</th>\n",
              "      <th>Preprocessed_Article</th>\n",
              "    </tr>\n",
              "  </thead>\n",
              "  <tbody>\n",
              "    <tr>\n",
              "      <th>count</th>\n",
              "      <td>2225</td>\n",
              "      <td>2225</td>\n",
              "      <td>2225</td>\n",
              "    </tr>\n",
              "    <tr>\n",
              "      <th>unique</th>\n",
              "      <td>5</td>\n",
              "      <td>2126</td>\n",
              "      <td>2117</td>\n",
              "    </tr>\n",
              "    <tr>\n",
              "      <th>top</th>\n",
              "      <td>Sports</td>\n",
              "      <td>kennedy questions trust of blair lib dem leade...</td>\n",
              "      <td>microsoft get blogging bug software giant micr...</td>\n",
              "    </tr>\n",
              "    <tr>\n",
              "      <th>freq</th>\n",
              "      <td>511</td>\n",
              "      <td>2</td>\n",
              "      <td>2</td>\n",
              "    </tr>\n",
              "  </tbody>\n",
              "</table>\n",
              "</div>\n",
              "      <button class=\"colab-df-convert\" onclick=\"convertToInteractive('df-52bfcff0-8559-4042-ad25-e1ec532cf139')\"\n",
              "              title=\"Convert this dataframe to an interactive table.\"\n",
              "              style=\"display:none;\">\n",
              "\n",
              "  <svg xmlns=\"http://www.w3.org/2000/svg\" height=\"24px\"viewBox=\"0 0 24 24\"\n",
              "       width=\"24px\">\n",
              "    <path d=\"M0 0h24v24H0V0z\" fill=\"none\"/>\n",
              "    <path d=\"M18.56 5.44l.94 2.06.94-2.06 2.06-.94-2.06-.94-.94-2.06-.94 2.06-2.06.94zm-11 1L8.5 8.5l.94-2.06 2.06-.94-2.06-.94L8.5 2.5l-.94 2.06-2.06.94zm10 10l.94 2.06.94-2.06 2.06-.94-2.06-.94-.94-2.06-.94 2.06-2.06.94z\"/><path d=\"M17.41 7.96l-1.37-1.37c-.4-.4-.92-.59-1.43-.59-.52 0-1.04.2-1.43.59L10.3 9.45l-7.72 7.72c-.78.78-.78 2.05 0 2.83L4 21.41c.39.39.9.59 1.41.59.51 0 1.02-.2 1.41-.59l7.78-7.78 2.81-2.81c.8-.78.8-2.07 0-2.86zM5.41 20L4 18.59l7.72-7.72 1.47 1.35L5.41 20z\"/>\n",
              "  </svg>\n",
              "      </button>\n",
              "\n",
              "\n",
              "\n",
              "    <div id=\"df-91a7342e-22b4-4201-86c9-ba7039468038\">\n",
              "      <button class=\"colab-df-quickchart\" onclick=\"quickchart('df-91a7342e-22b4-4201-86c9-ba7039468038')\"\n",
              "              title=\"Suggest charts.\"\n",
              "              style=\"display:none;\">\n",
              "\n",
              "<svg xmlns=\"http://www.w3.org/2000/svg\" height=\"24px\"viewBox=\"0 0 24 24\"\n",
              "     width=\"24px\">\n",
              "    <g>\n",
              "        <path d=\"M19 3H5c-1.1 0-2 .9-2 2v14c0 1.1.9 2 2 2h14c1.1 0 2-.9 2-2V5c0-1.1-.9-2-2-2zM9 17H7v-7h2v7zm4 0h-2V7h2v10zm4 0h-2v-4h2v4z\"/>\n",
              "    </g>\n",
              "</svg>\n",
              "      </button>\n",
              "    </div>\n",
              "\n",
              "<style>\n",
              "  .colab-df-quickchart {\n",
              "    background-color: #E8F0FE;\n",
              "    border: none;\n",
              "    border-radius: 50%;\n",
              "    cursor: pointer;\n",
              "    display: none;\n",
              "    fill: #1967D2;\n",
              "    height: 32px;\n",
              "    padding: 0 0 0 0;\n",
              "    width: 32px;\n",
              "  }\n",
              "\n",
              "  .colab-df-quickchart:hover {\n",
              "    background-color: #E2EBFA;\n",
              "    box-shadow: 0px 1px 2px rgba(60, 64, 67, 0.3), 0px 1px 3px 1px rgba(60, 64, 67, 0.15);\n",
              "    fill: #174EA6;\n",
              "  }\n",
              "\n",
              "  [theme=dark] .colab-df-quickchart {\n",
              "    background-color: #3B4455;\n",
              "    fill: #D2E3FC;\n",
              "  }\n",
              "\n",
              "  [theme=dark] .colab-df-quickchart:hover {\n",
              "    background-color: #434B5C;\n",
              "    box-shadow: 0px 1px 3px 1px rgba(0, 0, 0, 0.15);\n",
              "    filter: drop-shadow(0px 1px 2px rgba(0, 0, 0, 0.3));\n",
              "    fill: #FFFFFF;\n",
              "  }\n",
              "</style>\n",
              "\n",
              "    <script>\n",
              "      async function quickchart(key) {\n",
              "        const containerElement = document.querySelector('#' + key);\n",
              "        const charts = await google.colab.kernel.invokeFunction(\n",
              "            'suggestCharts', [key], {});\n",
              "      }\n",
              "    </script>\n",
              "\n",
              "      <script>\n",
              "\n",
              "function displayQuickchartButton(domScope) {\n",
              "  let quickchartButtonEl =\n",
              "    domScope.querySelector('#df-91a7342e-22b4-4201-86c9-ba7039468038 button.colab-df-quickchart');\n",
              "  quickchartButtonEl.style.display =\n",
              "    google.colab.kernel.accessAllowed ? 'block' : 'none';\n",
              "}\n",
              "\n",
              "        displayQuickchartButton(document);\n",
              "      </script>\n",
              "      <style>\n",
              "    .colab-df-container {\n",
              "      display:flex;\n",
              "      flex-wrap:wrap;\n",
              "      gap: 12px;\n",
              "    }\n",
              "\n",
              "    .colab-df-convert {\n",
              "      background-color: #E8F0FE;\n",
              "      border: none;\n",
              "      border-radius: 50%;\n",
              "      cursor: pointer;\n",
              "      display: none;\n",
              "      fill: #1967D2;\n",
              "      height: 32px;\n",
              "      padding: 0 0 0 0;\n",
              "      width: 32px;\n",
              "    }\n",
              "\n",
              "    .colab-df-convert:hover {\n",
              "      background-color: #E2EBFA;\n",
              "      box-shadow: 0px 1px 2px rgba(60, 64, 67, 0.3), 0px 1px 3px 1px rgba(60, 64, 67, 0.15);\n",
              "      fill: #174EA6;\n",
              "    }\n",
              "\n",
              "    [theme=dark] .colab-df-convert {\n",
              "      background-color: #3B4455;\n",
              "      fill: #D2E3FC;\n",
              "    }\n",
              "\n",
              "    [theme=dark] .colab-df-convert:hover {\n",
              "      background-color: #434B5C;\n",
              "      box-shadow: 0px 1px 3px 1px rgba(0, 0, 0, 0.15);\n",
              "      filter: drop-shadow(0px 1px 2px rgba(0, 0, 0, 0.3));\n",
              "      fill: #FFFFFF;\n",
              "    }\n",
              "  </style>\n",
              "\n",
              "      <script>\n",
              "        const buttonEl =\n",
              "          document.querySelector('#df-52bfcff0-8559-4042-ad25-e1ec532cf139 button.colab-df-convert');\n",
              "        buttonEl.style.display =\n",
              "          google.colab.kernel.accessAllowed ? 'block' : 'none';\n",
              "\n",
              "        async function convertToInteractive(key) {\n",
              "          const element = document.querySelector('#df-52bfcff0-8559-4042-ad25-e1ec532cf139');\n",
              "          const dataTable =\n",
              "            await google.colab.kernel.invokeFunction('convertToInteractive',\n",
              "                                                     [key], {});\n",
              "          if (!dataTable) return;\n",
              "\n",
              "          const docLinkHtml = 'Like what you see? Visit the ' +\n",
              "            '<a target=\"_blank\" href=https://colab.research.google.com/notebooks/data_table.ipynb>data table notebook</a>'\n",
              "            + ' to learn more about interactive tables.';\n",
              "          element.innerHTML = '';\n",
              "          dataTable['output_type'] = 'display_data';\n",
              "          await google.colab.output.renderOutput(dataTable, element);\n",
              "          const docLink = document.createElement('div');\n",
              "          docLink.innerHTML = docLinkHtml;\n",
              "          element.appendChild(docLink);\n",
              "        }\n",
              "      </script>\n",
              "    </div>\n",
              "  </div>\n"
            ]
          },
          "metadata": {},
          "execution_count": 18
        }
      ]
    },
    {
      "cell_type": "code",
      "source": [
        "data_df.head()"
      ],
      "metadata": {
        "colab": {
          "base_uri": "https://localhost:8080/",
          "height": 206
        },
        "id": "08vnA5dEiFBY",
        "outputId": "c8183454-b729-4e48-9dab-3e5480a93eea"
      },
      "execution_count": null,
      "outputs": [
        {
          "output_type": "execute_result",
          "data": {
            "text/plain": [
              "        Category                                            Article  \\\n",
              "0     Technology  tv future in the hands of viewers with home th...   \n",
              "1       Business  worldcom boss  left books alone  former worldc...   \n",
              "2         Sports  tigers wary of farrell  gamble  leicester say ...   \n",
              "3         Sports  yeading face newcastle in fa cup premiership s...   \n",
              "4  Entertainment  ocean s twelve raids box office ocean s twelve...   \n",
              "\n",
              "                                Preprocessed_Article  \n",
              "0  tv future hand viewer home theatre system plas...  \n",
              "1  worldcom bos left book alone former worldcom b...  \n",
              "2  tiger wary farrell gamble leicester say rushed...  \n",
              "3  yeading face newcastle fa cup premiership side...  \n",
              "4  ocean twelve raid box office ocean twelve crim...  "
            ],
            "text/html": [
              "\n",
              "\n",
              "  <div id=\"df-88de6cb5-e378-42ba-86ea-b09ad80a335c\">\n",
              "    <div class=\"colab-df-container\">\n",
              "      <div>\n",
              "<style scoped>\n",
              "    .dataframe tbody tr th:only-of-type {\n",
              "        vertical-align: middle;\n",
              "    }\n",
              "\n",
              "    .dataframe tbody tr th {\n",
              "        vertical-align: top;\n",
              "    }\n",
              "\n",
              "    .dataframe thead th {\n",
              "        text-align: right;\n",
              "    }\n",
              "</style>\n",
              "<table border=\"1\" class=\"dataframe\">\n",
              "  <thead>\n",
              "    <tr style=\"text-align: right;\">\n",
              "      <th></th>\n",
              "      <th>Category</th>\n",
              "      <th>Article</th>\n",
              "      <th>Preprocessed_Article</th>\n",
              "    </tr>\n",
              "  </thead>\n",
              "  <tbody>\n",
              "    <tr>\n",
              "      <th>0</th>\n",
              "      <td>Technology</td>\n",
              "      <td>tv future in the hands of viewers with home th...</td>\n",
              "      <td>tv future hand viewer home theatre system plas...</td>\n",
              "    </tr>\n",
              "    <tr>\n",
              "      <th>1</th>\n",
              "      <td>Business</td>\n",
              "      <td>worldcom boss  left books alone  former worldc...</td>\n",
              "      <td>worldcom bos left book alone former worldcom b...</td>\n",
              "    </tr>\n",
              "    <tr>\n",
              "      <th>2</th>\n",
              "      <td>Sports</td>\n",
              "      <td>tigers wary of farrell  gamble  leicester say ...</td>\n",
              "      <td>tiger wary farrell gamble leicester say rushed...</td>\n",
              "    </tr>\n",
              "    <tr>\n",
              "      <th>3</th>\n",
              "      <td>Sports</td>\n",
              "      <td>yeading face newcastle in fa cup premiership s...</td>\n",
              "      <td>yeading face newcastle fa cup premiership side...</td>\n",
              "    </tr>\n",
              "    <tr>\n",
              "      <th>4</th>\n",
              "      <td>Entertainment</td>\n",
              "      <td>ocean s twelve raids box office ocean s twelve...</td>\n",
              "      <td>ocean twelve raid box office ocean twelve crim...</td>\n",
              "    </tr>\n",
              "  </tbody>\n",
              "</table>\n",
              "</div>\n",
              "      <button class=\"colab-df-convert\" onclick=\"convertToInteractive('df-88de6cb5-e378-42ba-86ea-b09ad80a335c')\"\n",
              "              title=\"Convert this dataframe to an interactive table.\"\n",
              "              style=\"display:none;\">\n",
              "\n",
              "  <svg xmlns=\"http://www.w3.org/2000/svg\" height=\"24px\"viewBox=\"0 0 24 24\"\n",
              "       width=\"24px\">\n",
              "    <path d=\"M0 0h24v24H0V0z\" fill=\"none\"/>\n",
              "    <path d=\"M18.56 5.44l.94 2.06.94-2.06 2.06-.94-2.06-.94-.94-2.06-.94 2.06-2.06.94zm-11 1L8.5 8.5l.94-2.06 2.06-.94-2.06-.94L8.5 2.5l-.94 2.06-2.06.94zm10 10l.94 2.06.94-2.06 2.06-.94-2.06-.94-.94-2.06-.94 2.06-2.06.94z\"/><path d=\"M17.41 7.96l-1.37-1.37c-.4-.4-.92-.59-1.43-.59-.52 0-1.04.2-1.43.59L10.3 9.45l-7.72 7.72c-.78.78-.78 2.05 0 2.83L4 21.41c.39.39.9.59 1.41.59.51 0 1.02-.2 1.41-.59l7.78-7.78 2.81-2.81c.8-.78.8-2.07 0-2.86zM5.41 20L4 18.59l7.72-7.72 1.47 1.35L5.41 20z\"/>\n",
              "  </svg>\n",
              "      </button>\n",
              "\n",
              "\n",
              "\n",
              "    <div id=\"df-0ab24cae-e384-4bc4-aeb9-d59f877150a4\">\n",
              "      <button class=\"colab-df-quickchart\" onclick=\"quickchart('df-0ab24cae-e384-4bc4-aeb9-d59f877150a4')\"\n",
              "              title=\"Suggest charts.\"\n",
              "              style=\"display:none;\">\n",
              "\n",
              "<svg xmlns=\"http://www.w3.org/2000/svg\" height=\"24px\"viewBox=\"0 0 24 24\"\n",
              "     width=\"24px\">\n",
              "    <g>\n",
              "        <path d=\"M19 3H5c-1.1 0-2 .9-2 2v14c0 1.1.9 2 2 2h14c1.1 0 2-.9 2-2V5c0-1.1-.9-2-2-2zM9 17H7v-7h2v7zm4 0h-2V7h2v10zm4 0h-2v-4h2v4z\"/>\n",
              "    </g>\n",
              "</svg>\n",
              "      </button>\n",
              "    </div>\n",
              "\n",
              "<style>\n",
              "  .colab-df-quickchart {\n",
              "    background-color: #E8F0FE;\n",
              "    border: none;\n",
              "    border-radius: 50%;\n",
              "    cursor: pointer;\n",
              "    display: none;\n",
              "    fill: #1967D2;\n",
              "    height: 32px;\n",
              "    padding: 0 0 0 0;\n",
              "    width: 32px;\n",
              "  }\n",
              "\n",
              "  .colab-df-quickchart:hover {\n",
              "    background-color: #E2EBFA;\n",
              "    box-shadow: 0px 1px 2px rgba(60, 64, 67, 0.3), 0px 1px 3px 1px rgba(60, 64, 67, 0.15);\n",
              "    fill: #174EA6;\n",
              "  }\n",
              "\n",
              "  [theme=dark] .colab-df-quickchart {\n",
              "    background-color: #3B4455;\n",
              "    fill: #D2E3FC;\n",
              "  }\n",
              "\n",
              "  [theme=dark] .colab-df-quickchart:hover {\n",
              "    background-color: #434B5C;\n",
              "    box-shadow: 0px 1px 3px 1px rgba(0, 0, 0, 0.15);\n",
              "    filter: drop-shadow(0px 1px 2px rgba(0, 0, 0, 0.3));\n",
              "    fill: #FFFFFF;\n",
              "  }\n",
              "</style>\n",
              "\n",
              "    <script>\n",
              "      async function quickchart(key) {\n",
              "        const containerElement = document.querySelector('#' + key);\n",
              "        const charts = await google.colab.kernel.invokeFunction(\n",
              "            'suggestCharts', [key], {});\n",
              "      }\n",
              "    </script>\n",
              "\n",
              "      <script>\n",
              "\n",
              "function displayQuickchartButton(domScope) {\n",
              "  let quickchartButtonEl =\n",
              "    domScope.querySelector('#df-0ab24cae-e384-4bc4-aeb9-d59f877150a4 button.colab-df-quickchart');\n",
              "  quickchartButtonEl.style.display =\n",
              "    google.colab.kernel.accessAllowed ? 'block' : 'none';\n",
              "}\n",
              "\n",
              "        displayQuickchartButton(document);\n",
              "      </script>\n",
              "      <style>\n",
              "    .colab-df-container {\n",
              "      display:flex;\n",
              "      flex-wrap:wrap;\n",
              "      gap: 12px;\n",
              "    }\n",
              "\n",
              "    .colab-df-convert {\n",
              "      background-color: #E8F0FE;\n",
              "      border: none;\n",
              "      border-radius: 50%;\n",
              "      cursor: pointer;\n",
              "      display: none;\n",
              "      fill: #1967D2;\n",
              "      height: 32px;\n",
              "      padding: 0 0 0 0;\n",
              "      width: 32px;\n",
              "    }\n",
              "\n",
              "    .colab-df-convert:hover {\n",
              "      background-color: #E2EBFA;\n",
              "      box-shadow: 0px 1px 2px rgba(60, 64, 67, 0.3), 0px 1px 3px 1px rgba(60, 64, 67, 0.15);\n",
              "      fill: #174EA6;\n",
              "    }\n",
              "\n",
              "    [theme=dark] .colab-df-convert {\n",
              "      background-color: #3B4455;\n",
              "      fill: #D2E3FC;\n",
              "    }\n",
              "\n",
              "    [theme=dark] .colab-df-convert:hover {\n",
              "      background-color: #434B5C;\n",
              "      box-shadow: 0px 1px 3px 1px rgba(0, 0, 0, 0.15);\n",
              "      filter: drop-shadow(0px 1px 2px rgba(0, 0, 0, 0.3));\n",
              "      fill: #FFFFFF;\n",
              "    }\n",
              "  </style>\n",
              "\n",
              "      <script>\n",
              "        const buttonEl =\n",
              "          document.querySelector('#df-88de6cb5-e378-42ba-86ea-b09ad80a335c button.colab-df-convert');\n",
              "        buttonEl.style.display =\n",
              "          google.colab.kernel.accessAllowed ? 'block' : 'none';\n",
              "\n",
              "        async function convertToInteractive(key) {\n",
              "          const element = document.querySelector('#df-88de6cb5-e378-42ba-86ea-b09ad80a335c');\n",
              "          const dataTable =\n",
              "            await google.colab.kernel.invokeFunction('convertToInteractive',\n",
              "                                                     [key], {});\n",
              "          if (!dataTable) return;\n",
              "\n",
              "          const docLinkHtml = 'Like what you see? Visit the ' +\n",
              "            '<a target=\"_blank\" href=https://colab.research.google.com/notebooks/data_table.ipynb>data table notebook</a>'\n",
              "            + ' to learn more about interactive tables.';\n",
              "          element.innerHTML = '';\n",
              "          dataTable['output_type'] = 'display_data';\n",
              "          await google.colab.output.renderOutput(dataTable, element);\n",
              "          const docLink = document.createElement('div');\n",
              "          docLink.innerHTML = docLinkHtml;\n",
              "          element.appendChild(docLink);\n",
              "        }\n",
              "      </script>\n",
              "    </div>\n",
              "  </div>\n"
            ]
          },
          "metadata": {},
          "execution_count": 19
        }
      ]
    },
    {
      "cell_type": "code",
      "source": [
        "# Single Article - after Text Processing\n",
        "data_df['Preprocessed_Article'][3]"
      ],
      "metadata": {
        "colab": {
          "base_uri": "https://localhost:8080/",
          "height": 140
        },
        "id": "6wkBGhyylD9_",
        "outputId": "e351c448-e64b-4e60-9f87-10b98b83c429"
      },
      "execution_count": null,
      "outputs": [
        {
          "output_type": "execute_result",
          "data": {
            "text/plain": [
              "'yeading face newcastle fa cup premiership side newcastle united face trip ryman premier league leader yeading fa cup third round game arguably highlight draw potential money spinner non league yeading beat slough second round conference side exeter city knocked doncaster saturday travel old trafford meet holder manchester united january arsenal drawn home stoke chelsea play host scunthorpe non league side draw hinckley united held brentford goalless draw sunday meet league one leader luton win replay martin allen team griffin park number premiership team face difficult away game championship side weekend january third placed everton visit plymouth liverpool travel burnley crystal palace go sunderland fulham face carling cup semi finalist watford bolton meet ipswich aston villa drawn sheffield united premiership struggler norwich blackburn west brom away west ham cardiff preston north end respectively southampton visit northampton already beaten league two side carling cup earlier season middlesbrough drawn away either swindon notts county spur entertain brighton white hart lane arsenal v stoke swindon notts co v middlesbrough man utd v exeter plymouth v everton leicester v blackpool derby v wigan sunderland v crystal palace wolf v millwall yeading v newcastle hull v colchester tottenham v brighton reading v stockport swansea birmingham v leeds hartlepool v boston milton keynes don v peterborough oldham v man city chelsea v scunthorpe cardiff v blackburn charlton v rochdale west ham v norwich sheff utd v aston villa preston v west brom rotherham v yeovil burnley v liverpool bournemouth v chester coventry v crewe watford v fulham ipswich v bolton portsmouth v gillingham northampton v southampton qpr v nottm forest luton v hinckley brentford match played weekend january'"
            ],
            "application/vnd.google.colaboratory.intrinsic+json": {
              "type": "string"
            }
          },
          "metadata": {},
          "execution_count": 21
        }
      ]
    },
    {
      "cell_type": "markdown",
      "source": [
        "##### - Single news article after text processing looks like above. We can see that the text is free of all punctuations and the lemmatization has converted various words into their respective root words."
      ],
      "metadata": {
        "id": "aX-Ufdxxt5xr"
      }
    },
    {
      "cell_type": "markdown",
      "source": [
        "### Data Transformation"
      ],
      "metadata": {
        "id": "JQn7FfdR3r7T"
      }
    },
    {
      "cell_type": "code",
      "source": [
        "# Encoding the Target Variable using Ordinal Encoder\n",
        "encode = ce.OrdinalEncoder(cols=['Category'])\n",
        "data_df = encode.fit_transform(data_df)"
      ],
      "metadata": {
        "id": "Q61pe0k13fjU"
      },
      "execution_count": null,
      "outputs": []
    },
    {
      "cell_type": "code",
      "source": [
        "work_df = data_df.copy()"
      ],
      "metadata": {
        "id": "Ue4DUx9n6jP3"
      },
      "execution_count": null,
      "outputs": []
    },
    {
      "cell_type": "code",
      "source": [
        "choice = int(input(\"Choose \\n (1) For Bag of Words \\n (2) To use TF-IDF \\n Choice: \"))\n",
        "\n",
        "if choice == 1:\n",
        "  cv = CountVectorizer(max_features=5000)\n",
        "  X = cv.fit_transform(work_df.Preprocessed_Article).toarray()\n",
        "  y = np.array(work_df['Category'].values)\n",
        "\n",
        "elif choice == 2:\n",
        "  tf_idf = TfidfVectorizer()\n",
        "  X = tf_idf.fit_transform(work_df.Preprocessed_Article).toarray()\n",
        "  y = np.array(work_df['Category'].values)\n",
        "\n",
        "else:\n",
        "  print(\"Invalid Input!\")"
      ],
      "metadata": {
        "colab": {
          "base_uri": "https://localhost:8080/"
        },
        "id": "F1Vxfveou4rf",
        "outputId": "914c291f-bfcf-4e13-8ddc-48e8481a44ba"
      },
      "execution_count": null,
      "outputs": [
        {
          "name": "stdout",
          "output_type": "stream",
          "text": [
            "Choose \n",
            " (1) For Bag of Words \n",
            " (2) To use TF-IDF \n",
            " Choice: 2\n"
          ]
        }
      ]
    },
    {
      "cell_type": "markdown",
      "source": [
        "#### Segregate the Independent & Dependent variables"
      ],
      "metadata": {
        "id": "R1lTJL0U_oEZ"
      }
    },
    {
      "cell_type": "code",
      "source": [
        "X_train, X_test, y_train, y_test = train_test_split(X, y, test_size=0.25, random_state=42)"
      ],
      "metadata": {
        "id": "jWo7oIRDv557"
      },
      "execution_count": null,
      "outputs": []
    },
    {
      "cell_type": "markdown",
      "source": [
        "#### Shape of the train & test data"
      ],
      "metadata": {
        "id": "8ojIQzXpACWH"
      }
    },
    {
      "cell_type": "code",
      "source": [
        "# Shape of train & test data sets after performing a 75:25 split\n",
        "print(\"Number of rows in train set is {}\".format(X_train.shape[0]))\n",
        "print(\"Number of rows in test set is {}\".format(X_test.shape[0]))"
      ],
      "metadata": {
        "colab": {
          "base_uri": "https://localhost:8080/"
        },
        "id": "Gn4ynEyr_-7S",
        "outputId": "b5fd6842-3823-457e-c0d2-d11b8cf81f01"
      },
      "execution_count": null,
      "outputs": [
        {
          "output_type": "stream",
          "name": "stdout",
          "text": [
            "Number of rows in train set is 1668\n",
            "Number of rows in test set is 557\n"
          ]
        }
      ]
    },
    {
      "cell_type": "markdown",
      "source": [
        "## Base Model - Naive Bayes Classifier"
      ],
      "metadata": {
        "id": "33A5_iPwAo11"
      }
    },
    {
      "cell_type": "code",
      "source": [
        "# Build Naive Bayes Classifier\n",
        "nb_classifier = MultinomialNB()\n",
        "\n",
        "# Train NB Model\n",
        "nb_classifier.fit(X_train, y_train)\n",
        "\n",
        "# Evaluate NB Model\n",
        "nb_predictions = nb_classifier.predict(X_test)\n",
        "print('Naive Bayes Classifier:')\n",
        "print(classification_report(y_test, nb_predictions))"
      ],
      "metadata": {
        "colab": {
          "base_uri": "https://localhost:8080/"
        },
        "id": "z2BRUE-437IX",
        "outputId": "29bd06a3-1761-45d1-951d-ac1a75385cc0"
      },
      "execution_count": null,
      "outputs": [
        {
          "output_type": "stream",
          "name": "stdout",
          "text": [
            "Naive Bayes Classifier:\n",
            "              precision    recall  f1-score   support\n",
            "\n",
            "           1       0.97      0.97      0.97       103\n",
            "           2       0.97      0.96      0.97       136\n",
            "           3       0.98      1.00      0.99       124\n",
            "           4       1.00      0.93      0.96        96\n",
            "           5       0.93      0.99      0.96        98\n",
            "\n",
            "    accuracy                           0.97       557\n",
            "   macro avg       0.97      0.97      0.97       557\n",
            "weighted avg       0.97      0.97      0.97       557\n",
            "\n"
          ]
        }
      ]
    },
    {
      "cell_type": "code",
      "source": [
        "# Predict the probabilities for each class\n",
        "nb_probabilities = nb_classifier.predict_proba(X_test)"
      ],
      "metadata": {
        "id": "gW__y39HROtC"
      },
      "execution_count": null,
      "outputs": []
    },
    {
      "cell_type": "code",
      "source": [
        "# Calculate ROC AUC score for Naive Bayes\n",
        "nb_roc_auc = roc_auc_score(y_test, nb_probabilities, multi_class='ovr')\n",
        "print(\"ROC AUC Score of Base Model {:.3f}\".format(nb_roc_auc))"
      ],
      "metadata": {
        "colab": {
          "base_uri": "https://localhost:8080/"
        },
        "id": "JVOGdCudRSaU",
        "outputId": "0fcb2960-5ef8-43b8-b1cd-ff7ae071f98b"
      },
      "execution_count": null,
      "outputs": [
        {
          "output_type": "stream",
          "name": "stdout",
          "text": [
            "ROC AUC Score of Base Model 0.998\n"
          ]
        }
      ]
    },
    {
      "cell_type": "code",
      "source": [
        "# Confusion Matrix\n",
        "y_pred_nb = nb_classifier.predict(X_test)\n",
        "cm = confusion_matrix(y_test, y_pred_nb)\n",
        "\n",
        "plt.figure(figsize=(8, 5))\n",
        "sns.heatmap(cm, annot=True, fmt='d', cbar=False, cmap='Greens')\n",
        "plt.title(\"Confusion Matrix\")\n",
        "plt.xlabel('Prdicted Value')\n",
        "plt.ylabel('Actuals')\n",
        "plt.show()"
      ],
      "metadata": {
        "colab": {
          "base_uri": "https://localhost:8080/",
          "height": 487
        },
        "id": "ACh7--yz4UtV",
        "outputId": "d1e9fd15-aed0-4b57-b765-a9a6692db3d1"
      },
      "execution_count": null,
      "outputs": [
        {
          "output_type": "display_data",
          "data": {
            "text/plain": [
              "<Figure size 800x500 with 1 Axes>"
            ],
            "image/png": "[encoded data removed]"
          },
          "metadata": {}
        }
      ]
    },
    {
      "cell_type": "markdown",
      "source": [
        "## Helper Functions"
      ],
      "metadata": {
        "id": "dv_miCnqQpsL"
      }
    },
    {
      "cell_type": "markdown",
      "source": [
        "#### Model Training"
      ],
      "metadata": {
        "id": "XNRn8_3pD_Ub"
      }
    },
    {
      "cell_type": "code",
      "source": [
        "def model_train(obj):\n",
        "  obj.fit(X_train, y_train)\n",
        "  y_pred = obj.predict(X_test)\n",
        "  y_pred_proba = obj.predict_proba(X_test)\n",
        "  return y_pred, y_pred_proba"
      ],
      "metadata": {
        "id": "1J4NU9MDD2O3"
      },
      "execution_count": null,
      "outputs": []
    },
    {
      "cell_type": "markdown",
      "source": [
        "#### Model Evaluation"
      ],
      "metadata": {
        "id": "TrjDAaSuEXdJ"
      }
    },
    {
      "cell_type": "code",
      "source": [
        "def model_eval(obj, y_pred, y_pred_proba):\n",
        "  print(\"**************************************\")\n",
        "\n",
        "  # Train & Test accuracy\n",
        "  train_acc = accuracy_score(y_train, obj.predict(X_train))\n",
        "  test_acc = accuracy_score(y_test, obj.predict(X_test))\n",
        "\n",
        "  print(\"Train Accuracy: {:.3f}\".format(train_acc))\n",
        "  print(\"Test Accuracy: {:.3f}\".format(test_acc))\n",
        "\n",
        "  # ROC AUC Score\n",
        "  print(\"ROC AUC Score: {:.3f}\".format(roc_auc_score(y_test, y_pred_proba, multi_class='ovr')))\n",
        "\n",
        "  # Precision, Recall and f1_score\n",
        "  precision = precision_score(y_test, y_pred, average='weighted')\n",
        "  recall = recall_score(y_test, y_pred, average='weighted')\n",
        "  f1 = f1_score(y_test, y_pred, average='weighted')\n",
        "\n",
        "  print(\"Precision: {:.3f}\".format(precision))\n",
        "  print('Recall: {:.3f}'.format(recall))\n",
        "  print('F1 Score: {:.3f}'.format(f1))\n",
        "\n",
        "  print(\"**************************************\")"
      ],
      "metadata": {
        "id": "eZbteHk2EVD0"
      },
      "execution_count": null,
      "outputs": []
    },
    {
      "cell_type": "markdown",
      "source": [
        "## Linear SVM"
      ],
      "metadata": {
        "id": "8EplAx2FcwT9"
      }
    },
    {
      "cell_type": "code",
      "source": [
        "# Create SVM Model\n",
        "from sklearn.svm import LinearSVC\n",
        "svm_classifier = LinearSVC()\n",
        "\n",
        "# Train SVM Model\n",
        "svm_classifier.fit(X_train, y_train)\n",
        "\n",
        "# Evaluate SVM Model\n",
        "svm_predictions = svm_classifier.predict(X_test)\n",
        "print('Linear SVM Classifier:')\n",
        "print(classification_report(y_test, svm_predictions))"
      ],
      "metadata": {
        "colab": {
          "base_uri": "https://localhost:8080/"
        },
        "id": "pUSV5myB4mt-",
        "outputId": "54a08f0c-f2e7-47f6-e572-020b1935de55"
      },
      "execution_count": null,
      "outputs": [
        {
          "output_type": "stream",
          "name": "stdout",
          "text": [
            "Linear SVM Classifier:\n",
            "              precision    recall  f1-score   support\n",
            "\n",
            "           1       0.99      0.98      0.99       103\n",
            "           2       0.97      0.93      0.95       136\n",
            "           3       0.98      1.00      0.99       124\n",
            "           4       0.99      0.99      0.99        96\n",
            "           5       0.95      0.98      0.96        98\n",
            "\n",
            "    accuracy                           0.97       557\n",
            "   macro avg       0.98      0.98      0.98       557\n",
            "weighted avg       0.97      0.97      0.97       557\n",
            "\n"
          ]
        }
      ]
    },
    {
      "cell_type": "code",
      "source": [
        "svm_probabilities = svm_classifier.decision_function(X_test)"
      ],
      "metadata": {
        "id": "weGhtkPAO9Nm"
      },
      "execution_count": null,
      "outputs": []
    },
    {
      "cell_type": "code",
      "source": [
        "from sklearn.preprocessing import label_binarize\n",
        "from scipy.special import softmax\n",
        "\n",
        "# Convert decision function scores to probabilities using softmax\n",
        "svm_probabilities = softmax(svm_probabilities, axis=1)\n",
        "\n",
        "# Binarize the true labels for multi-class ROC AUC\n",
        "y_test_bin = label_binarize(y_test, classes=data_df['Category'].unique())\n",
        "\n",
        "# Calculate ROC AUC score for Linear SVM\n",
        "svm_roc_auc = roc_auc_score(y_test_bin, svm_probabilities, multi_class='ovr')"
      ],
      "metadata": {
        "id": "BQh26iyuWQNr"
      },
      "execution_count": null,
      "outputs": []
    },
    {
      "cell_type": "code",
      "source": [
        "print('Linear SVM ROC AUC {:.3f}'.format(svm_roc_auc))"
      ],
      "metadata": {
        "colab": {
          "base_uri": "https://localhost:8080/"
        },
        "id": "Wrl67teiWWYq",
        "outputId": "445d587c-299e-403a-b32a-09ad0feef5a8"
      },
      "execution_count": null,
      "outputs": [
        {
          "output_type": "stream",
          "name": "stdout",
          "text": [
            "Linear SVM ROC AUC 0.999\n"
          ]
        }
      ]
    },
    {
      "cell_type": "markdown",
      "source": [
        "## Decision Tree Classifier Model"
      ],
      "metadata": {
        "id": "I7WIYK7bIk7J"
      }
    },
    {
      "cell_type": "code",
      "source": [
        "# Create the Model Object\n",
        "dt = DecisionTreeClassifier()\n",
        "\n",
        "# Train the model\n",
        "y_pred_dt, y_pred_proba_dt = model_train(dt)\n",
        "\n",
        "# Evaluate the model\n",
        "model_eval(dt, y_pred_dt, y_pred_proba_dt)"
      ],
      "metadata": {
        "colab": {
          "base_uri": "https://localhost:8080/"
        },
        "id": "yjynduYf6CSC",
        "outputId": "90d477d3-04d4-4ae0-fbde-217147130c15"
      },
      "execution_count": null,
      "outputs": [
        {
          "output_type": "stream",
          "name": "stdout",
          "text": [
            "**************************************\n",
            "Train Accuracy: 1.000\n",
            "Test Accuracy: 0.820\n",
            "ROC AUC Score: 0.884\n",
            "Precision: 0.823\n",
            "Recall: 0.820\n",
            "F1 Score: 0.820\n",
            "**************************************\n"
          ]
        }
      ]
    },
    {
      "cell_type": "markdown",
      "source": [
        "## Nearest Neighbors Classifier"
      ],
      "metadata": {
        "id": "XVeo5lX-KfRD"
      }
    },
    {
      "cell_type": "code",
      "source": [
        "# Creating the model object\n",
        "knn = KNeighborsClassifier(n_neighbors=5)\n",
        "\n",
        "# Train the model\n",
        "y_pred_knn, y_pred_proba_knn = model_train(knn)\n",
        "\n",
        "# Evalute the model\n",
        "model_eval(knn, y_pred_knn, y_pred_proba_knn)"
      ],
      "metadata": {
        "colab": {
          "base_uri": "https://localhost:8080/"
        },
        "id": "MbOn2Gow6WAt",
        "outputId": "fece6038-a712-4c9b-c2af-35e3f994e452"
      },
      "execution_count": null,
      "outputs": [
        {
          "output_type": "stream",
          "name": "stdout",
          "text": [
            "**************************************\n",
            "Train Accuracy: 0.957\n",
            "Test Accuracy: 0.937\n",
            "ROC AUC Score: 0.990\n",
            "Precision: 0.938\n",
            "Recall: 0.937\n",
            "F1 Score: 0.937\n",
            "**************************************\n"
          ]
        }
      ]
    },
    {
      "cell_type": "markdown",
      "source": [
        "## Random Forest Classifier"
      ],
      "metadata": {
        "id": "q16vRxqZOeqz"
      }
    },
    {
      "cell_type": "code",
      "source": [
        "# Create the model\n",
        "rf = RandomForestClassifier()\n",
        "\n",
        "# Train the model\n",
        "y_pred_rf, y_pred_proba_rf = model_train(rf)\n",
        "\n",
        "# Evaluate the model\n",
        "model_eval(rf, y_pred_rf, y_pred_proba_rf)"
      ],
      "metadata": {
        "colab": {
          "base_uri": "https://localhost:8080/"
        },
        "id": "nCkX0plA6nV2",
        "outputId": "be4542cb-acdd-4ff7-f425-070545f6a1f6"
      },
      "execution_count": null,
      "outputs": [
        {
          "output_type": "stream",
          "name": "stdout",
          "text": [
            "**************************************\n",
            "Train Accuracy: 1.000\n",
            "Test Accuracy: 0.957\n",
            "ROC AUC Score: 0.998\n",
            "Precision: 0.958\n",
            "Recall: 0.957\n",
            "F1 Score: 0.957\n",
            "**************************************\n"
          ]
        }
      ]
    },
    {
      "cell_type": "markdown",
      "source": [
        "## **Questionnaire**:\n",
        "\n",
        "Questionnaire:\n",
        "\n",
        "1.How many news articles are present in the dataset that we have?\n",
        "\n",
        "Ans :-  2225\n",
        "\n",
        "2.Most of the news articles are from Sports & Business category.\n",
        "\n",
        "3.Only 401 no. of articles belong to the ‘Technology’ category.\n",
        "\n",
        "4.What are Stop Words and why should they be removed from the text data?\n",
        "\n",
        "Ans  Stop words are Commanly used word that Considered to have little semantic menaing or caring less information comparedto other content words\n",
        "Eg : 'the', 'and','is','in','a\n",
        "Benefits\n",
        "* Size reduction\n",
        "* Noise Reduction\n",
        "* Improved accuracy\n",
        "* Focus on important words\n",
        "\n",
        "5.Explain the difference between Stemming and Lemmatization.\n",
        "\n",
        "Ans Stemming:\n",
        "Stemming is a process of reducing a word to its base or root form by removing suffixes or prefixes. It applies a set of heuristic rules to chop off the affixes from a word, resulting in the stem. The stemmed word may not always be a valid word in the language, but it represents the core meaning of the word. Stemming is a relatively simpler and faster technique compared to lemmatization\n",
        "\n",
        "Lemmatization:\n",
        "Lemmatization, on the other hand, is a more advanced technique that reduces words to their base or dictionary form, known as the lemma. Unlike stemming, lemmatization considers the context and part of speech of a word to determine its lemma accurately. It uses morphological analysis and looks up words in a dictionary or lexicon to find their proper lemmas\n",
        "\n",
        "6.Which of the techniques Bag of Words or TF-IDF is considered to be more efficient than the other?\n",
        "\n",
        "AnsIn terms of computational efficiency, Bag of Words (BoW) is generally considered more efficient. However, TF-IDF is more efficient in representing the importance and rarity of words. The choice depends on the specific requirements of the task.\n",
        "\n",
        "7.What’s the shape of train & test data sets after performing a 75:25 split.\n",
        "\n",
        "ANs :- Train 1668\n",
        "       Test  557\n",
        "\n",
        "8.Which of the following is found to be the best performing model..\n",
        "\n",
        "a. Random Forest b. Nearest Neighbors c. Naive Bayes\n",
        "\n",
        "Ans Random Forest\n",
        "\n",
        "9.According to this particular use case, both precision and recall are equally important. (T/F)\n",
        "\n",
        "Ans :-True\n",
        "\n"
      ],
      "metadata": {
        "id": "xz5H8Ts6JE7L"
      }
    },
    {
      "cell_type": "markdown",
      "source": [
        "## **Summary**\n",
        "\n",
        "The final comparative summary of the models (Naive Bayes, Decision Tree, Nearest Neighbour, Random Forest) for news article categorization is:\n",
        "\n",
        "* Random Forest\n",
        "\n",
        "In the table, each model is evaluated based on various performance metrics such as accuracy, precision, recall, and F1-score. The metrics provide an indication of how well the models perform in categorizing news articles based on their content."
      ],
      "metadata": {
        "id": "mCIhPn7hInD1"
      }
    },
    {
      "cell_type": "code",
      "source": [],
      "metadata": {
        "id": "sB2LGb62YIii"
      },
      "execution_count": null,
      "outputs": []
    }
  ]
}