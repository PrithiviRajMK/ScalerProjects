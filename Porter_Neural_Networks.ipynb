{
  "nbformat": 4,
  "nbformat_minor": 0,
  "metadata": {
    "colab": {
      "provenance": [],
      "authorship_tag": "ABX9TyPTKBY3jVi9VRr2M7nTbVOm",
      "include_colab_link": true
    },
    "kernelspec": {
      "name": "python3",
      "display_name": "Python 3"
    },
    "language_info": {
      "name": "python"
    }
  },
  "cells": [
    {
      "cell_type": "markdown",
      "metadata": {
        "id": "view-in-github",
        "colab_type": "text"
      },
      "source": [
        "<a href=\"https://colab.research.google.com/github/PrithiviRajMK/ScalerProjects/blob/main/Porter_Neural_Networks.ipynb\" target=\"_parent\"><img src=\"https://colab.research.google.com/assets/colab-badge.svg\" alt=\"Open In Colab\"/></a>"
      ]
    },
    {
      "cell_type": "markdown",
      "source": [
        "# Porter Neural Networks\n",
        "\n",
        "Porter is India's Largest Marketplace for Intra-City Logistics. Leader in the country's $40 billion intra-city logistics market, Porter strives to improve the lives of 1,50,000+ driver-partners by providing them with consistent earning & independence. Currently, the company has serviced 5+ million customers\n",
        "\n",
        "Porter works with a wide range of restaurants for delivering their items directly to the people.\n",
        "\n",
        "Porter has a number of delivery partners available for delivering the food, from various restaurants and wants to get an estimated delivery time that it can provide the customers on the basis of what they are ordering, from where and also the delivery partners.\n",
        "\n",
        "This dataset has the required data to train a regression model that will do the delivery time estimation, based on all those features"
      ],
      "metadata": {
        "id": "vTzSiJ1IQ1AF"
      }
    },
    {
      "cell_type": "markdown",
      "source": [
        "Import Packages"
      ],
      "metadata": {
        "id": "2XR_ulruRFPq"
      }
    },
    {
      "cell_type": "code",
      "execution_count": 63,
      "metadata": {
        "id": "U_M84AiTQmL8"
      },
      "outputs": [],
      "source": [
        "# Import required packages\n",
        "# Import the required libraries\n",
        "import numpy as np\n",
        "import pandas as pd\n",
        "import matplotlib.pyplot as plt\n",
        "import seaborn as sns\n",
        "\n",
        "import warnings\n",
        "\n",
        "from datetime import datetime\n",
        "warnings.filterwarnings('ignore')\n"
      ]
    },
    {
      "cell_type": "markdown",
      "source": [
        "Import & Load data"
      ],
      "metadata": {
        "id": "cFRPtO7gR4zl"
      }
    },
    {
      "cell_type": "code",
      "source": [
        "df=pd.read_csv(\"/content/dataset.csv\")"
      ],
      "metadata": {
        "id": "XcLx_Ax9R36q"
      },
      "execution_count": 64,
      "outputs": []
    },
    {
      "cell_type": "markdown",
      "source": [
        "Statistical Summary\n",
        "\n",
        "\n",
        "Meta-data of dataset"
      ],
      "metadata": {
        "id": "PJvZCUCSSyJ4"
      }
    },
    {
      "cell_type": "code",
      "source": [
        "df.info()"
      ],
      "metadata": {
        "colab": {
          "base_uri": "https://localhost:8080/"
        },
        "id": "byJi_nzTSAbU",
        "outputId": "49add14c-302b-45ca-aa06-bce553cb15de"
      },
      "execution_count": 65,
      "outputs": [
        {
          "output_type": "stream",
          "name": "stdout",
          "text": [
            "<class 'pandas.core.frame.DataFrame'>\n",
            "RangeIndex: 197428 entries, 0 to 197427\n",
            "Data columns (total 14 columns):\n",
            " #   Column                    Non-Null Count   Dtype  \n",
            "---  ------                    --------------   -----  \n",
            " 0   market_id                 196441 non-null  float64\n",
            " 1   created_at                197428 non-null  object \n",
            " 2   actual_delivery_time      197421 non-null  object \n",
            " 3   store_id                  197428 non-null  object \n",
            " 4   store_primary_category    192668 non-null  object \n",
            " 5   order_protocol            196433 non-null  float64\n",
            " 6   total_items               197428 non-null  int64  \n",
            " 7   subtotal                  197428 non-null  int64  \n",
            " 8   num_distinct_items        197428 non-null  int64  \n",
            " 9   min_item_price            197428 non-null  int64  \n",
            " 10  max_item_price            197428 non-null  int64  \n",
            " 11  total_onshift_partners    181166 non-null  float64\n",
            " 12  total_busy_partners       181166 non-null  float64\n",
            " 13  total_outstanding_orders  181166 non-null  float64\n",
            "dtypes: float64(5), int64(5), object(4)\n",
            "memory usage: 21.1+ MB\n"
          ]
        }
      ]
    },
    {
      "cell_type": "markdown",
      "source": [
        "Description of the dataframe\n"
      ],
      "metadata": {
        "id": "W8B19YB6S5vw"
      }
    },
    {
      "cell_type": "code",
      "source": [
        "df.describe().T"
      ],
      "metadata": {
        "colab": {
          "base_uri": "https://localhost:8080/",
          "height": 363
        },
        "id": "UHSzXb2LTAeZ",
        "outputId": "09ccf025-31b0-42f7-81a8-80645034d955"
      },
      "execution_count": 66,
      "outputs": [
        {
          "output_type": "execute_result",
          "data": {
            "text/plain": [
              "                             count         mean          std   min     25%  \\\n",
              "market_id                 196441.0     2.978706     1.524867   1.0     2.0   \n",
              "order_protocol            196433.0     2.882352     1.503771   1.0     1.0   \n",
              "total_items               197428.0     3.196391     2.666546   1.0     2.0   \n",
              "subtotal                  197428.0  2682.331402  1823.093688   0.0  1400.0   \n",
              "num_distinct_items        197428.0     2.670791     1.630255   1.0     1.0   \n",
              "min_item_price            197428.0   686.218470   522.038648 -86.0   299.0   \n",
              "max_item_price            197428.0  1159.588630   558.411377   0.0   800.0   \n",
              "total_onshift_partners    181166.0    44.808093    34.526783  -4.0    17.0   \n",
              "total_busy_partners       181166.0    41.739747    32.145733  -5.0    15.0   \n",
              "total_outstanding_orders  181166.0    58.050065    52.661830  -6.0    17.0   \n",
              "\n",
              "                             50%     75%      max  \n",
              "market_id                    3.0     4.0      6.0  \n",
              "order_protocol               3.0     4.0      7.0  \n",
              "total_items                  3.0     4.0    411.0  \n",
              "subtotal                  2200.0  3395.0  27100.0  \n",
              "num_distinct_items           2.0     3.0     20.0  \n",
              "min_item_price             595.0   949.0  14700.0  \n",
              "max_item_price            1095.0  1395.0  14700.0  \n",
              "total_onshift_partners      37.0    65.0    171.0  \n",
              "total_busy_partners         34.0    62.0    154.0  \n",
              "total_outstanding_orders    41.0    85.0    285.0  "
            ],
            "text/html": [
              "\n",
              "  <div id=\"df-cd27b567-3046-4876-ada9-36bce1284d2b\">\n",
              "    <div class=\"colab-df-container\">\n",
              "      <div>\n",
              "<style scoped>\n",
              "    .dataframe tbody tr th:only-of-type {\n",
              "        vertical-align: middle;\n",
              "    }\n",
              "\n",
              "    .dataframe tbody tr th {\n",
              "        vertical-align: top;\n",
              "    }\n",
              "\n",
              "    .dataframe thead th {\n",
              "        text-align: right;\n",
              "    }\n",
              "</style>\n",
              "<table border=\"1\" class=\"dataframe\">\n",
              "  <thead>\n",
              "    <tr style=\"text-align: right;\">\n",
              "      <th></th>\n",
              "      <th>count</th>\n",
              "      <th>mean</th>\n",
              "      <th>std</th>\n",
              "      <th>min</th>\n",
              "      <th>25%</th>\n",
              "      <th>50%</th>\n",
              "      <th>75%</th>\n",
              "      <th>max</th>\n",
              "    </tr>\n",
              "  </thead>\n",
              "  <tbody>\n",
              "    <tr>\n",
              "      <th>market_id</th>\n",
              "      <td>196441.0</td>\n",
              "      <td>2.978706</td>\n",
              "      <td>1.524867</td>\n",
              "      <td>1.0</td>\n",
              "      <td>2.0</td>\n",
              "      <td>3.0</td>\n",
              "      <td>4.0</td>\n",
              "      <td>6.0</td>\n",
              "    </tr>\n",
              "    <tr>\n",
              "      <th>order_protocol</th>\n",
              "      <td>196433.0</td>\n",
              "      <td>2.882352</td>\n",
              "      <td>1.503771</td>\n",
              "      <td>1.0</td>\n",
              "      <td>1.0</td>\n",
              "      <td>3.0</td>\n",
              "      <td>4.0</td>\n",
              "      <td>7.0</td>\n",
              "    </tr>\n",
              "    <tr>\n",
              "      <th>total_items</th>\n",
              "      <td>197428.0</td>\n",
              "      <td>3.196391</td>\n",
              "      <td>2.666546</td>\n",
              "      <td>1.0</td>\n",
              "      <td>2.0</td>\n",
              "      <td>3.0</td>\n",
              "      <td>4.0</td>\n",
              "      <td>411.0</td>\n",
              "    </tr>\n",
              "    <tr>\n",
              "      <th>subtotal</th>\n",
              "      <td>197428.0</td>\n",
              "      <td>2682.331402</td>\n",
              "      <td>1823.093688</td>\n",
              "      <td>0.0</td>\n",
              "      <td>1400.0</td>\n",
              "      <td>2200.0</td>\n",
              "      <td>3395.0</td>\n",
              "      <td>27100.0</td>\n",
              "    </tr>\n",
              "    <tr>\n",
              "      <th>num_distinct_items</th>\n",
              "      <td>197428.0</td>\n",
              "      <td>2.670791</td>\n",
              "      <td>1.630255</td>\n",
              "      <td>1.0</td>\n",
              "      <td>1.0</td>\n",
              "      <td>2.0</td>\n",
              "      <td>3.0</td>\n",
              "      <td>20.0</td>\n",
              "    </tr>\n",
              "    <tr>\n",
              "      <th>min_item_price</th>\n",
              "      <td>197428.0</td>\n",
              "      <td>686.218470</td>\n",
              "      <td>522.038648</td>\n",
              "      <td>-86.0</td>\n",
              "      <td>299.0</td>\n",
              "      <td>595.0</td>\n",
              "      <td>949.0</td>\n",
              "      <td>14700.0</td>\n",
              "    </tr>\n",
              "    <tr>\n",
              "      <th>max_item_price</th>\n",
              "      <td>197428.0</td>\n",
              "      <td>1159.588630</td>\n",
              "      <td>558.411377</td>\n",
              "      <td>0.0</td>\n",
              "      <td>800.0</td>\n",
              "      <td>1095.0</td>\n",
              "      <td>1395.0</td>\n",
              "      <td>14700.0</td>\n",
              "    </tr>\n",
              "    <tr>\n",
              "      <th>total_onshift_partners</th>\n",
              "      <td>181166.0</td>\n",
              "      <td>44.808093</td>\n",
              "      <td>34.526783</td>\n",
              "      <td>-4.0</td>\n",
              "      <td>17.0</td>\n",
              "      <td>37.0</td>\n",
              "      <td>65.0</td>\n",
              "      <td>171.0</td>\n",
              "    </tr>\n",
              "    <tr>\n",
              "      <th>total_busy_partners</th>\n",
              "      <td>181166.0</td>\n",
              "      <td>41.739747</td>\n",
              "      <td>32.145733</td>\n",
              "      <td>-5.0</td>\n",
              "      <td>15.0</td>\n",
              "      <td>34.0</td>\n",
              "      <td>62.0</td>\n",
              "      <td>154.0</td>\n",
              "    </tr>\n",
              "    <tr>\n",
              "      <th>total_outstanding_orders</th>\n",
              "      <td>181166.0</td>\n",
              "      <td>58.050065</td>\n",
              "      <td>52.661830</td>\n",
              "      <td>-6.0</td>\n",
              "      <td>17.0</td>\n",
              "      <td>41.0</td>\n",
              "      <td>85.0</td>\n",
              "      <td>285.0</td>\n",
              "    </tr>\n",
              "  </tbody>\n",
              "</table>\n",
              "</div>\n",
              "      <button class=\"colab-df-convert\" onclick=\"convertToInteractive('df-cd27b567-3046-4876-ada9-36bce1284d2b')\"\n",
              "              title=\"Convert this dataframe to an interactive table.\"\n",
              "              style=\"display:none;\">\n",
              "        \n",
              "  <svg xmlns=\"http://www.w3.org/2000/svg\" height=\"24px\"viewBox=\"0 0 24 24\"\n",
              "       width=\"24px\">\n",
              "    <path d=\"M0 0h24v24H0V0z\" fill=\"none\"/>\n",
              "    <path d=\"M18.56 5.44l.94 2.06.94-2.06 2.06-.94-2.06-.94-.94-2.06-.94 2.06-2.06.94zm-11 1L8.5 8.5l.94-2.06 2.06-.94-2.06-.94L8.5 2.5l-.94 2.06-2.06.94zm10 10l.94 2.06.94-2.06 2.06-.94-2.06-.94-.94-2.06-.94 2.06-2.06.94z\"/><path d=\"M17.41 7.96l-1.37-1.37c-.4-.4-.92-.59-1.43-.59-.52 0-1.04.2-1.43.59L10.3 9.45l-7.72 7.72c-.78.78-.78 2.05 0 2.83L4 21.41c.39.39.9.59 1.41.59.51 0 1.02-.2 1.41-.59l7.78-7.78 2.81-2.81c.8-.78.8-2.07 0-2.86zM5.41 20L4 18.59l7.72-7.72 1.47 1.35L5.41 20z\"/>\n",
              "  </svg>\n",
              "      </button>\n",
              "      \n",
              "  <style>\n",
              "    .colab-df-container {\n",
              "      display:flex;\n",
              "      flex-wrap:wrap;\n",
              "      gap: 12px;\n",
              "    }\n",
              "\n",
              "    .colab-df-convert {\n",
              "      background-color: #E8F0FE;\n",
              "      border: none;\n",
              "      border-radius: 50%;\n",
              "      cursor: pointer;\n",
              "      display: none;\n",
              "      fill: #1967D2;\n",
              "      height: 32px;\n",
              "      padding: 0 0 0 0;\n",
              "      width: 32px;\n",
              "    }\n",
              "\n",
              "    .colab-df-convert:hover {\n",
              "      background-color: #E2EBFA;\n",
              "      box-shadow: 0px 1px 2px rgba(60, 64, 67, 0.3), 0px 1px 3px 1px rgba(60, 64, 67, 0.15);\n",
              "      fill: #174EA6;\n",
              "    }\n",
              "\n",
              "    [theme=dark] .colab-df-convert {\n",
              "      background-color: #3B4455;\n",
              "      fill: #D2E3FC;\n",
              "    }\n",
              "\n",
              "    [theme=dark] .colab-df-convert:hover {\n",
              "      background-color: #434B5C;\n",
              "      box-shadow: 0px 1px 3px 1px rgba(0, 0, 0, 0.15);\n",
              "      filter: drop-shadow(0px 1px 2px rgba(0, 0, 0, 0.3));\n",
              "      fill: #FFFFFF;\n",
              "    }\n",
              "  </style>\n",
              "\n",
              "      <script>\n",
              "        const buttonEl =\n",
              "          document.querySelector('#df-cd27b567-3046-4876-ada9-36bce1284d2b button.colab-df-convert');\n",
              "        buttonEl.style.display =\n",
              "          google.colab.kernel.accessAllowed ? 'block' : 'none';\n",
              "\n",
              "        async function convertToInteractive(key) {\n",
              "          const element = document.querySelector('#df-cd27b567-3046-4876-ada9-36bce1284d2b');\n",
              "          const dataTable =\n",
              "            await google.colab.kernel.invokeFunction('convertToInteractive',\n",
              "                                                     [key], {});\n",
              "          if (!dataTable) return;\n",
              "\n",
              "          const docLinkHtml = 'Like what you see? Visit the ' +\n",
              "            '<a target=\"_blank\" href=https://colab.research.google.com/notebooks/data_table.ipynb>data table notebook</a>'\n",
              "            + ' to learn more about interactive tables.';\n",
              "          element.innerHTML = '';\n",
              "          dataTable['output_type'] = 'display_data';\n",
              "          await google.colab.output.renderOutput(dataTable, element);\n",
              "          const docLink = document.createElement('div');\n",
              "          docLink.innerHTML = docLinkHtml;\n",
              "          element.appendChild(docLink);\n",
              "        }\n",
              "      </script>\n",
              "    </div>\n",
              "  </div>\n",
              "  "
            ]
          },
          "metadata": {},
          "execution_count": 66
        }
      ]
    },
    {
      "cell_type": "code",
      "source": [
        "df.describe(include='all').T\n"
      ],
      "metadata": {
        "colab": {
          "base_uri": "https://localhost:8080/",
          "height": 532
        },
        "id": "wOeA9M_DUSYS",
        "outputId": "4b63cbad-c1c7-4d5b-cbde-1564e4f9545b"
      },
      "execution_count": 67,
      "outputs": [
        {
          "output_type": "execute_result",
          "data": {
            "text/plain": [
              "                             count  unique                               top  \\\n",
              "market_id                 196441.0     NaN                               NaN   \n",
              "created_at                  197428  180985               2015-02-11 19:50:43   \n",
              "actual_delivery_time        197421  178110               2015-02-11 20:40:45   \n",
              "store_id                    197428    6743  d43ab110ab2489d6b9b2caa394bf920f   \n",
              "store_primary_category      192668      74                          american   \n",
              "order_protocol            196433.0     NaN                               NaN   \n",
              "total_items               197428.0     NaN                               NaN   \n",
              "subtotal                  197428.0     NaN                               NaN   \n",
              "num_distinct_items        197428.0     NaN                               NaN   \n",
              "min_item_price            197428.0     NaN                               NaN   \n",
              "max_item_price            197428.0     NaN                               NaN   \n",
              "total_onshift_partners    181166.0     NaN                               NaN   \n",
              "total_busy_partners       181166.0     NaN                               NaN   \n",
              "total_outstanding_orders  181166.0     NaN                               NaN   \n",
              "\n",
              "                           freq         mean          std   min     25%  \\\n",
              "market_id                   NaN     2.978706     1.524867   1.0     2.0   \n",
              "created_at                    6          NaN          NaN   NaN     NaN   \n",
              "actual_delivery_time          5          NaN          NaN   NaN     NaN   \n",
              "store_id                    937          NaN          NaN   NaN     NaN   \n",
              "store_primary_category    19399          NaN          NaN   NaN     NaN   \n",
              "order_protocol              NaN     2.882352     1.503771   1.0     1.0   \n",
              "total_items                 NaN     3.196391     2.666546   1.0     2.0   \n",
              "subtotal                    NaN  2682.331402  1823.093688   0.0  1400.0   \n",
              "num_distinct_items          NaN     2.670791     1.630255   1.0     1.0   \n",
              "min_item_price              NaN    686.21847   522.038648 -86.0   299.0   \n",
              "max_item_price              NaN   1159.58863   558.411377   0.0   800.0   \n",
              "total_onshift_partners      NaN    44.808093    34.526783  -4.0    17.0   \n",
              "total_busy_partners         NaN    41.739747    32.145733  -5.0    15.0   \n",
              "total_outstanding_orders    NaN    58.050065     52.66183  -6.0    17.0   \n",
              "\n",
              "                             50%     75%      max  \n",
              "market_id                    3.0     4.0      6.0  \n",
              "created_at                   NaN     NaN      NaN  \n",
              "actual_delivery_time         NaN     NaN      NaN  \n",
              "store_id                     NaN     NaN      NaN  \n",
              "store_primary_category       NaN     NaN      NaN  \n",
              "order_protocol               3.0     4.0      7.0  \n",
              "total_items                  3.0     4.0    411.0  \n",
              "subtotal                  2200.0  3395.0  27100.0  \n",
              "num_distinct_items           2.0     3.0     20.0  \n",
              "min_item_price             595.0   949.0  14700.0  \n",
              "max_item_price            1095.0  1395.0  14700.0  \n",
              "total_onshift_partners      37.0    65.0    171.0  \n",
              "total_busy_partners         34.0    62.0    154.0  \n",
              "total_outstanding_orders    41.0    85.0    285.0  "
            ],
            "text/html": [
              "\n",
              "  <div id=\"df-f6abc9ae-46d6-44fb-8059-a9119ae38036\">\n",
              "    <div class=\"colab-df-container\">\n",
              "      <div>\n",
              "<style scoped>\n",
              "    .dataframe tbody tr th:only-of-type {\n",
              "        vertical-align: middle;\n",
              "    }\n",
              "\n",
              "    .dataframe tbody tr th {\n",
              "        vertical-align: top;\n",
              "    }\n",
              "\n",
              "    .dataframe thead th {\n",
              "        text-align: right;\n",
              "    }\n",
              "</style>\n",
              "<table border=\"1\" class=\"dataframe\">\n",
              "  <thead>\n",
              "    <tr style=\"text-align: right;\">\n",
              "      <th></th>\n",
              "      <th>count</th>\n",
              "      <th>unique</th>\n",
              "      <th>top</th>\n",
              "      <th>freq</th>\n",
              "      <th>mean</th>\n",
              "      <th>std</th>\n",
              "      <th>min</th>\n",
              "      <th>25%</th>\n",
              "      <th>50%</th>\n",
              "      <th>75%</th>\n",
              "      <th>max</th>\n",
              "    </tr>\n",
              "  </thead>\n",
              "  <tbody>\n",
              "    <tr>\n",
              "      <th>market_id</th>\n",
              "      <td>196441.0</td>\n",
              "      <td>NaN</td>\n",
              "      <td>NaN</td>\n",
              "      <td>NaN</td>\n",
              "      <td>2.978706</td>\n",
              "      <td>1.524867</td>\n",
              "      <td>1.0</td>\n",
              "      <td>2.0</td>\n",
              "      <td>3.0</td>\n",
              "      <td>4.0</td>\n",
              "      <td>6.0</td>\n",
              "    </tr>\n",
              "    <tr>\n",
              "      <th>created_at</th>\n",
              "      <td>197428</td>\n",
              "      <td>180985</td>\n",
              "      <td>2015-02-11 19:50:43</td>\n",
              "      <td>6</td>\n",
              "      <td>NaN</td>\n",
              "      <td>NaN</td>\n",
              "      <td>NaN</td>\n",
              "      <td>NaN</td>\n",
              "      <td>NaN</td>\n",
              "      <td>NaN</td>\n",
              "      <td>NaN</td>\n",
              "    </tr>\n",
              "    <tr>\n",
              "      <th>actual_delivery_time</th>\n",
              "      <td>197421</td>\n",
              "      <td>178110</td>\n",
              "      <td>2015-02-11 20:40:45</td>\n",
              "      <td>5</td>\n",
              "      <td>NaN</td>\n",
              "      <td>NaN</td>\n",
              "      <td>NaN</td>\n",
              "      <td>NaN</td>\n",
              "      <td>NaN</td>\n",
              "      <td>NaN</td>\n",
              "      <td>NaN</td>\n",
              "    </tr>\n",
              "    <tr>\n",
              "      <th>store_id</th>\n",
              "      <td>197428</td>\n",
              "      <td>6743</td>\n",
              "      <td>d43ab110ab2489d6b9b2caa394bf920f</td>\n",
              "      <td>937</td>\n",
              "      <td>NaN</td>\n",
              "      <td>NaN</td>\n",
              "      <td>NaN</td>\n",
              "      <td>NaN</td>\n",
              "      <td>NaN</td>\n",
              "      <td>NaN</td>\n",
              "      <td>NaN</td>\n",
              "    </tr>\n",
              "    <tr>\n",
              "      <th>store_primary_category</th>\n",
              "      <td>192668</td>\n",
              "      <td>74</td>\n",
              "      <td>american</td>\n",
              "      <td>19399</td>\n",
              "      <td>NaN</td>\n",
              "      <td>NaN</td>\n",
              "      <td>NaN</td>\n",
              "      <td>NaN</td>\n",
              "      <td>NaN</td>\n",
              "      <td>NaN</td>\n",
              "      <td>NaN</td>\n",
              "    </tr>\n",
              "    <tr>\n",
              "      <th>order_protocol</th>\n",
              "      <td>196433.0</td>\n",
              "      <td>NaN</td>\n",
              "      <td>NaN</td>\n",
              "      <td>NaN</td>\n",
              "      <td>2.882352</td>\n",
              "      <td>1.503771</td>\n",
              "      <td>1.0</td>\n",
              "      <td>1.0</td>\n",
              "      <td>3.0</td>\n",
              "      <td>4.0</td>\n",
              "      <td>7.0</td>\n",
              "    </tr>\n",
              "    <tr>\n",
              "      <th>total_items</th>\n",
              "      <td>197428.0</td>\n",
              "      <td>NaN</td>\n",
              "      <td>NaN</td>\n",
              "      <td>NaN</td>\n",
              "      <td>3.196391</td>\n",
              "      <td>2.666546</td>\n",
              "      <td>1.0</td>\n",
              "      <td>2.0</td>\n",
              "      <td>3.0</td>\n",
              "      <td>4.0</td>\n",
              "      <td>411.0</td>\n",
              "    </tr>\n",
              "    <tr>\n",
              "      <th>subtotal</th>\n",
              "      <td>197428.0</td>\n",
              "      <td>NaN</td>\n",
              "      <td>NaN</td>\n",
              "      <td>NaN</td>\n",
              "      <td>2682.331402</td>\n",
              "      <td>1823.093688</td>\n",
              "      <td>0.0</td>\n",
              "      <td>1400.0</td>\n",
              "      <td>2200.0</td>\n",
              "      <td>3395.0</td>\n",
              "      <td>27100.0</td>\n",
              "    </tr>\n",
              "    <tr>\n",
              "      <th>num_distinct_items</th>\n",
              "      <td>197428.0</td>\n",
              "      <td>NaN</td>\n",
              "      <td>NaN</td>\n",
              "      <td>NaN</td>\n",
              "      <td>2.670791</td>\n",
              "      <td>1.630255</td>\n",
              "      <td>1.0</td>\n",
              "      <td>1.0</td>\n",
              "      <td>2.0</td>\n",
              "      <td>3.0</td>\n",
              "      <td>20.0</td>\n",
              "    </tr>\n",
              "    <tr>\n",
              "      <th>min_item_price</th>\n",
              "      <td>197428.0</td>\n",
              "      <td>NaN</td>\n",
              "      <td>NaN</td>\n",
              "      <td>NaN</td>\n",
              "      <td>686.21847</td>\n",
              "      <td>522.038648</td>\n",
              "      <td>-86.0</td>\n",
              "      <td>299.0</td>\n",
              "      <td>595.0</td>\n",
              "      <td>949.0</td>\n",
              "      <td>14700.0</td>\n",
              "    </tr>\n",
              "    <tr>\n",
              "      <th>max_item_price</th>\n",
              "      <td>197428.0</td>\n",
              "      <td>NaN</td>\n",
              "      <td>NaN</td>\n",
              "      <td>NaN</td>\n",
              "      <td>1159.58863</td>\n",
              "      <td>558.411377</td>\n",
              "      <td>0.0</td>\n",
              "      <td>800.0</td>\n",
              "      <td>1095.0</td>\n",
              "      <td>1395.0</td>\n",
              "      <td>14700.0</td>\n",
              "    </tr>\n",
              "    <tr>\n",
              "      <th>total_onshift_partners</th>\n",
              "      <td>181166.0</td>\n",
              "      <td>NaN</td>\n",
              "      <td>NaN</td>\n",
              "      <td>NaN</td>\n",
              "      <td>44.808093</td>\n",
              "      <td>34.526783</td>\n",
              "      <td>-4.0</td>\n",
              "      <td>17.0</td>\n",
              "      <td>37.0</td>\n",
              "      <td>65.0</td>\n",
              "      <td>171.0</td>\n",
              "    </tr>\n",
              "    <tr>\n",
              "      <th>total_busy_partners</th>\n",
              "      <td>181166.0</td>\n",
              "      <td>NaN</td>\n",
              "      <td>NaN</td>\n",
              "      <td>NaN</td>\n",
              "      <td>41.739747</td>\n",
              "      <td>32.145733</td>\n",
              "      <td>-5.0</td>\n",
              "      <td>15.0</td>\n",
              "      <td>34.0</td>\n",
              "      <td>62.0</td>\n",
              "      <td>154.0</td>\n",
              "    </tr>\n",
              "    <tr>\n",
              "      <th>total_outstanding_orders</th>\n",
              "      <td>181166.0</td>\n",
              "      <td>NaN</td>\n",
              "      <td>NaN</td>\n",
              "      <td>NaN</td>\n",
              "      <td>58.050065</td>\n",
              "      <td>52.66183</td>\n",
              "      <td>-6.0</td>\n",
              "      <td>17.0</td>\n",
              "      <td>41.0</td>\n",
              "      <td>85.0</td>\n",
              "      <td>285.0</td>\n",
              "    </tr>\n",
              "  </tbody>\n",
              "</table>\n",
              "</div>\n",
              "      <button class=\"colab-df-convert\" onclick=\"convertToInteractive('df-f6abc9ae-46d6-44fb-8059-a9119ae38036')\"\n",
              "              title=\"Convert this dataframe to an interactive table.\"\n",
              "              style=\"display:none;\">\n",
              "        \n",
              "  <svg xmlns=\"http://www.w3.org/2000/svg\" height=\"24px\"viewBox=\"0 0 24 24\"\n",
              "       width=\"24px\">\n",
              "    <path d=\"M0 0h24v24H0V0z\" fill=\"none\"/>\n",
              "    <path d=\"M18.56 5.44l.94 2.06.94-2.06 2.06-.94-2.06-.94-.94-2.06-.94 2.06-2.06.94zm-11 1L8.5 8.5l.94-2.06 2.06-.94-2.06-.94L8.5 2.5l-.94 2.06-2.06.94zm10 10l.94 2.06.94-2.06 2.06-.94-2.06-.94-.94-2.06-.94 2.06-2.06.94z\"/><path d=\"M17.41 7.96l-1.37-1.37c-.4-.4-.92-.59-1.43-.59-.52 0-1.04.2-1.43.59L10.3 9.45l-7.72 7.72c-.78.78-.78 2.05 0 2.83L4 21.41c.39.39.9.59 1.41.59.51 0 1.02-.2 1.41-.59l7.78-7.78 2.81-2.81c.8-.78.8-2.07 0-2.86zM5.41 20L4 18.59l7.72-7.72 1.47 1.35L5.41 20z\"/>\n",
              "  </svg>\n",
              "      </button>\n",
              "      \n",
              "  <style>\n",
              "    .colab-df-container {\n",
              "      display:flex;\n",
              "      flex-wrap:wrap;\n",
              "      gap: 12px;\n",
              "    }\n",
              "\n",
              "    .colab-df-convert {\n",
              "      background-color: #E8F0FE;\n",
              "      border: none;\n",
              "      border-radius: 50%;\n",
              "      cursor: pointer;\n",
              "      display: none;\n",
              "      fill: #1967D2;\n",
              "      height: 32px;\n",
              "      padding: 0 0 0 0;\n",
              "      width: 32px;\n",
              "    }\n",
              "\n",
              "    .colab-df-convert:hover {\n",
              "      background-color: #E2EBFA;\n",
              "      box-shadow: 0px 1px 2px rgba(60, 64, 67, 0.3), 0px 1px 3px 1px rgba(60, 64, 67, 0.15);\n",
              "      fill: #174EA6;\n",
              "    }\n",
              "\n",
              "    [theme=dark] .colab-df-convert {\n",
              "      background-color: #3B4455;\n",
              "      fill: #D2E3FC;\n",
              "    }\n",
              "\n",
              "    [theme=dark] .colab-df-convert:hover {\n",
              "      background-color: #434B5C;\n",
              "      box-shadow: 0px 1px 3px 1px rgba(0, 0, 0, 0.15);\n",
              "      filter: drop-shadow(0px 1px 2px rgba(0, 0, 0, 0.3));\n",
              "      fill: #FFFFFF;\n",
              "    }\n",
              "  </style>\n",
              "\n",
              "      <script>\n",
              "        const buttonEl =\n",
              "          document.querySelector('#df-f6abc9ae-46d6-44fb-8059-a9119ae38036 button.colab-df-convert');\n",
              "        buttonEl.style.display =\n",
              "          google.colab.kernel.accessAllowed ? 'block' : 'none';\n",
              "\n",
              "        async function convertToInteractive(key) {\n",
              "          const element = document.querySelector('#df-f6abc9ae-46d6-44fb-8059-a9119ae38036');\n",
              "          const dataTable =\n",
              "            await google.colab.kernel.invokeFunction('convertToInteractive',\n",
              "                                                     [key], {});\n",
              "          if (!dataTable) return;\n",
              "\n",
              "          const docLinkHtml = 'Like what you see? Visit the ' +\n",
              "            '<a target=\"_blank\" href=https://colab.research.google.com/notebooks/data_table.ipynb>data table notebook</a>'\n",
              "            + ' to learn more about interactive tables.';\n",
              "          element.innerHTML = '';\n",
              "          dataTable['output_type'] = 'display_data';\n",
              "          await google.colab.output.renderOutput(dataTable, element);\n",
              "          const docLink = document.createElement('div');\n",
              "          docLink.innerHTML = docLinkHtml;\n",
              "          element.appendChild(docLink);\n",
              "        }\n",
              "      </script>\n",
              "    </div>\n",
              "  </div>\n",
              "  "
            ]
          },
          "metadata": {},
          "execution_count": 67
        }
      ]
    },
    {
      "cell_type": "code",
      "source": [
        "df.head()"
      ],
      "metadata": {
        "colab": {
          "base_uri": "https://localhost:8080/",
          "height": 357
        },
        "id": "UPdqUUiHUezy",
        "outputId": "2514752c-61b5-430b-be26-89534513433e"
      },
      "execution_count": 68,
      "outputs": [
        {
          "output_type": "execute_result",
          "data": {
            "text/plain": [
              "   market_id           created_at actual_delivery_time  \\\n",
              "0        1.0  2015-02-06 22:24:17  2015-02-06 23:27:16   \n",
              "1        2.0  2015-02-10 21:49:25  2015-02-10 22:56:29   \n",
              "2        3.0  2015-01-22 20:39:28  2015-01-22 21:09:09   \n",
              "3        3.0  2015-02-03 21:21:45  2015-02-03 22:13:00   \n",
              "4        3.0  2015-02-15 02:40:36  2015-02-15 03:20:26   \n",
              "\n",
              "                           store_id store_primary_category  order_protocol  \\\n",
              "0  df263d996281d984952c07998dc54358               american             1.0   \n",
              "1  f0ade77b43923b38237db569b016ba25                mexican             2.0   \n",
              "2  f0ade77b43923b38237db569b016ba25                    NaN             1.0   \n",
              "3  f0ade77b43923b38237db569b016ba25                    NaN             1.0   \n",
              "4  f0ade77b43923b38237db569b016ba25                    NaN             1.0   \n",
              "\n",
              "   total_items  subtotal  num_distinct_items  min_item_price  max_item_price  \\\n",
              "0            4      3441                   4             557            1239   \n",
              "1            1      1900                   1            1400            1400   \n",
              "2            1      1900                   1            1900            1900   \n",
              "3            6      6900                   5             600            1800   \n",
              "4            3      3900                   3            1100            1600   \n",
              "\n",
              "   total_onshift_partners  total_busy_partners  total_outstanding_orders  \n",
              "0                    33.0                 14.0                      21.0  \n",
              "1                     1.0                  2.0                       2.0  \n",
              "2                     1.0                  0.0                       0.0  \n",
              "3                     1.0                  1.0                       2.0  \n",
              "4                     6.0                  6.0                       9.0  "
            ],
            "text/html": [
              "\n",
              "  <div id=\"df-f763c97f-6fbf-4be5-9a56-de6abd24aa3e\">\n",
              "    <div class=\"colab-df-container\">\n",
              "      <div>\n",
              "<style scoped>\n",
              "    .dataframe tbody tr th:only-of-type {\n",
              "        vertical-align: middle;\n",
              "    }\n",
              "\n",
              "    .dataframe tbody tr th {\n",
              "        vertical-align: top;\n",
              "    }\n",
              "\n",
              "    .dataframe thead th {\n",
              "        text-align: right;\n",
              "    }\n",
              "</style>\n",
              "<table border=\"1\" class=\"dataframe\">\n",
              "  <thead>\n",
              "    <tr style=\"text-align: right;\">\n",
              "      <th></th>\n",
              "      <th>market_id</th>\n",
              "      <th>created_at</th>\n",
              "      <th>actual_delivery_time</th>\n",
              "      <th>store_id</th>\n",
              "      <th>store_primary_category</th>\n",
              "      <th>order_protocol</th>\n",
              "      <th>total_items</th>\n",
              "      <th>subtotal</th>\n",
              "      <th>num_distinct_items</th>\n",
              "      <th>min_item_price</th>\n",
              "      <th>max_item_price</th>\n",
              "      <th>total_onshift_partners</th>\n",
              "      <th>total_busy_partners</th>\n",
              "      <th>total_outstanding_orders</th>\n",
              "    </tr>\n",
              "  </thead>\n",
              "  <tbody>\n",
              "    <tr>\n",
              "      <th>0</th>\n",
              "      <td>1.0</td>\n",
              "      <td>2015-02-06 22:24:17</td>\n",
              "      <td>2015-02-06 23:27:16</td>\n",
              "      <td>df263d996281d984952c07998dc54358</td>\n",
              "      <td>american</td>\n",
              "      <td>1.0</td>\n",
              "      <td>4</td>\n",
              "      <td>3441</td>\n",
              "      <td>4</td>\n",
              "      <td>557</td>\n",
              "      <td>1239</td>\n",
              "      <td>33.0</td>\n",
              "      <td>14.0</td>\n",
              "      <td>21.0</td>\n",
              "    </tr>\n",
              "    <tr>\n",
              "      <th>1</th>\n",
              "      <td>2.0</td>\n",
              "      <td>2015-02-10 21:49:25</td>\n",
              "      <td>2015-02-10 22:56:29</td>\n",
              "      <td>f0ade77b43923b38237db569b016ba25</td>\n",
              "      <td>mexican</td>\n",
              "      <td>2.0</td>\n",
              "      <td>1</td>\n",
              "      <td>1900</td>\n",
              "      <td>1</td>\n",
              "      <td>1400</td>\n",
              "      <td>1400</td>\n",
              "      <td>1.0</td>\n",
              "      <td>2.0</td>\n",
              "      <td>2.0</td>\n",
              "    </tr>\n",
              "    <tr>\n",
              "      <th>2</th>\n",
              "      <td>3.0</td>\n",
              "      <td>2015-01-22 20:39:28</td>\n",
              "      <td>2015-01-22 21:09:09</td>\n",
              "      <td>f0ade77b43923b38237db569b016ba25</td>\n",
              "      <td>NaN</td>\n",
              "      <td>1.0</td>\n",
              "      <td>1</td>\n",
              "      <td>1900</td>\n",
              "      <td>1</td>\n",
              "      <td>1900</td>\n",
              "      <td>1900</td>\n",
              "      <td>1.0</td>\n",
              "      <td>0.0</td>\n",
              "      <td>0.0</td>\n",
              "    </tr>\n",
              "    <tr>\n",
              "      <th>3</th>\n",
              "      <td>3.0</td>\n",
              "      <td>2015-02-03 21:21:45</td>\n",
              "      <td>2015-02-03 22:13:00</td>\n",
              "      <td>f0ade77b43923b38237db569b016ba25</td>\n",
              "      <td>NaN</td>\n",
              "      <td>1.0</td>\n",
              "      <td>6</td>\n",
              "      <td>6900</td>\n",
              "      <td>5</td>\n",
              "      <td>600</td>\n",
              "      <td>1800</td>\n",
              "      <td>1.0</td>\n",
              "      <td>1.0</td>\n",
              "      <td>2.0</td>\n",
              "    </tr>\n",
              "    <tr>\n",
              "      <th>4</th>\n",
              "      <td>3.0</td>\n",
              "      <td>2015-02-15 02:40:36</td>\n",
              "      <td>2015-02-15 03:20:26</td>\n",
              "      <td>f0ade77b43923b38237db569b016ba25</td>\n",
              "      <td>NaN</td>\n",
              "      <td>1.0</td>\n",
              "      <td>3</td>\n",
              "      <td>3900</td>\n",
              "      <td>3</td>\n",
              "      <td>1100</td>\n",
              "      <td>1600</td>\n",
              "      <td>6.0</td>\n",
              "      <td>6.0</td>\n",
              "      <td>9.0</td>\n",
              "    </tr>\n",
              "  </tbody>\n",
              "</table>\n",
              "</div>\n",
              "      <button class=\"colab-df-convert\" onclick=\"convertToInteractive('df-f763c97f-6fbf-4be5-9a56-de6abd24aa3e')\"\n",
              "              title=\"Convert this dataframe to an interactive table.\"\n",
              "              style=\"display:none;\">\n",
              "        \n",
              "  <svg xmlns=\"http://www.w3.org/2000/svg\" height=\"24px\"viewBox=\"0 0 24 24\"\n",
              "       width=\"24px\">\n",
              "    <path d=\"M0 0h24v24H0V0z\" fill=\"none\"/>\n",
              "    <path d=\"M18.56 5.44l.94 2.06.94-2.06 2.06-.94-2.06-.94-.94-2.06-.94 2.06-2.06.94zm-11 1L8.5 8.5l.94-2.06 2.06-.94-2.06-.94L8.5 2.5l-.94 2.06-2.06.94zm10 10l.94 2.06.94-2.06 2.06-.94-2.06-.94-.94-2.06-.94 2.06-2.06.94z\"/><path d=\"M17.41 7.96l-1.37-1.37c-.4-.4-.92-.59-1.43-.59-.52 0-1.04.2-1.43.59L10.3 9.45l-7.72 7.72c-.78.78-.78 2.05 0 2.83L4 21.41c.39.39.9.59 1.41.59.51 0 1.02-.2 1.41-.59l7.78-7.78 2.81-2.81c.8-.78.8-2.07 0-2.86zM5.41 20L4 18.59l7.72-7.72 1.47 1.35L5.41 20z\"/>\n",
              "  </svg>\n",
              "      </button>\n",
              "      \n",
              "  <style>\n",
              "    .colab-df-container {\n",
              "      display:flex;\n",
              "      flex-wrap:wrap;\n",
              "      gap: 12px;\n",
              "    }\n",
              "\n",
              "    .colab-df-convert {\n",
              "      background-color: #E8F0FE;\n",
              "      border: none;\n",
              "      border-radius: 50%;\n",
              "      cursor: pointer;\n",
              "      display: none;\n",
              "      fill: #1967D2;\n",
              "      height: 32px;\n",
              "      padding: 0 0 0 0;\n",
              "      width: 32px;\n",
              "    }\n",
              "\n",
              "    .colab-df-convert:hover {\n",
              "      background-color: #E2EBFA;\n",
              "      box-shadow: 0px 1px 2px rgba(60, 64, 67, 0.3), 0px 1px 3px 1px rgba(60, 64, 67, 0.15);\n",
              "      fill: #174EA6;\n",
              "    }\n",
              "\n",
              "    [theme=dark] .colab-df-convert {\n",
              "      background-color: #3B4455;\n",
              "      fill: #D2E3FC;\n",
              "    }\n",
              "\n",
              "    [theme=dark] .colab-df-convert:hover {\n",
              "      background-color: #434B5C;\n",
              "      box-shadow: 0px 1px 3px 1px rgba(0, 0, 0, 0.15);\n",
              "      filter: drop-shadow(0px 1px 2px rgba(0, 0, 0, 0.3));\n",
              "      fill: #FFFFFF;\n",
              "    }\n",
              "  </style>\n",
              "\n",
              "      <script>\n",
              "        const buttonEl =\n",
              "          document.querySelector('#df-f763c97f-6fbf-4be5-9a56-de6abd24aa3e button.colab-df-convert');\n",
              "        buttonEl.style.display =\n",
              "          google.colab.kernel.accessAllowed ? 'block' : 'none';\n",
              "\n",
              "        async function convertToInteractive(key) {\n",
              "          const element = document.querySelector('#df-f763c97f-6fbf-4be5-9a56-de6abd24aa3e');\n",
              "          const dataTable =\n",
              "            await google.colab.kernel.invokeFunction('convertToInteractive',\n",
              "                                                     [key], {});\n",
              "          if (!dataTable) return;\n",
              "\n",
              "          const docLinkHtml = 'Like what you see? Visit the ' +\n",
              "            '<a target=\"_blank\" href=https://colab.research.google.com/notebooks/data_table.ipynb>data table notebook</a>'\n",
              "            + ' to learn more about interactive tables.';\n",
              "          element.innerHTML = '';\n",
              "          dataTable['output_type'] = 'display_data';\n",
              "          await google.colab.output.renderOutput(dataTable, element);\n",
              "          const docLink = document.createElement('div');\n",
              "          docLink.innerHTML = docLinkHtml;\n",
              "          element.appendChild(docLink);\n",
              "        }\n",
              "      </script>\n",
              "    </div>\n",
              "  </div>\n",
              "  "
            ]
          },
          "metadata": {},
          "execution_count": 68
        }
      ]
    },
    {
      "cell_type": "markdown",
      "source": [
        "Shape of the data\n"
      ],
      "metadata": {
        "id": "bVx3JJh4TA8X"
      }
    },
    {
      "cell_type": "code",
      "source": [
        "### Data shape\n",
        "print(\"Porter dataset has {} rows and {} columns.\".format(df.shape[0], df.shape[1]))"
      ],
      "metadata": {
        "colab": {
          "base_uri": "https://localhost:8080/"
        },
        "id": "HcqT-6BXTCHw",
        "outputId": "47c38f60-f655-4605-ab33-36433a4c354c"
      },
      "execution_count": 69,
      "outputs": [
        {
          "output_type": "stream",
          "name": "stdout",
          "text": [
            "Porter dataset has 197428 rows and 14 columns.\n"
          ]
        }
      ]
    },
    {
      "cell_type": "markdown",
      "source": [
        "Size & Count"
      ],
      "metadata": {
        "id": "e7J3BsyGTEcC"
      }
    },
    {
      "cell_type": "code",
      "source": [
        "# total number of elements/records \n",
        "df.size"
      ],
      "metadata": {
        "colab": {
          "base_uri": "https://localhost:8080/"
        },
        "id": "KeHl5c0CTFSn",
        "outputId": "8fad1607-64b5-4204-fab1-bc411db80a55"
      },
      "execution_count": 70,
      "outputs": [
        {
          "output_type": "execute_result",
          "data": {
            "text/plain": [
              "2763992"
            ]
          },
          "metadata": {},
          "execution_count": 70
        }
      ]
    },
    {
      "cell_type": "markdown",
      "source": [
        "Column Names"
      ],
      "metadata": {
        "id": "z03SiUmLTIMV"
      }
    },
    {
      "cell_type": "code",
      "source": [
        "# Columna names\n",
        "df.columns"
      ],
      "metadata": {
        "colab": {
          "base_uri": "https://localhost:8080/"
        },
        "id": "gzeqyFC3TI_4",
        "outputId": "9f92a6af-571d-411a-d9f0-90f15d81ca84"
      },
      "execution_count": 71,
      "outputs": [
        {
          "output_type": "execute_result",
          "data": {
            "text/plain": [
              "Index(['market_id', 'created_at', 'actual_delivery_time', 'store_id',\n",
              "       'store_primary_category', 'order_protocol', 'total_items', 'subtotal',\n",
              "       'num_distinct_items', 'min_item_price', 'max_item_price',\n",
              "       'total_onshift_partners', 'total_busy_partners',\n",
              "       'total_outstanding_orders'],\n",
              "      dtype='object')"
            ]
          },
          "metadata": {},
          "execution_count": 71
        }
      ]
    },
    {
      "cell_type": "markdown",
      "source": [
        "Column data typess"
      ],
      "metadata": {
        "id": "i64WxPYvTJi_"
      }
    },
    {
      "cell_type": "code",
      "source": [
        "### Data type of all attributes\n",
        "df.dtypes"
      ],
      "metadata": {
        "colab": {
          "base_uri": "https://localhost:8080/"
        },
        "id": "RvcQFJqgTJ0x",
        "outputId": "a989ac32-c7f0-48c3-9494-21e0bce09486"
      },
      "execution_count": 72,
      "outputs": [
        {
          "output_type": "execute_result",
          "data": {
            "text/plain": [
              "market_id                   float64\n",
              "created_at                   object\n",
              "actual_delivery_time         object\n",
              "store_id                     object\n",
              "store_primary_category       object\n",
              "order_protocol              float64\n",
              "total_items                   int64\n",
              "subtotal                      int64\n",
              "num_distinct_items            int64\n",
              "min_item_price                int64\n",
              "max_item_price                int64\n",
              "total_onshift_partners      float64\n",
              "total_busy_partners         float64\n",
              "total_outstanding_orders    float64\n",
              "dtype: object"
            ]
          },
          "metadata": {},
          "execution_count": 72
        }
      ]
    },
    {
      "cell_type": "markdown",
      "source": [
        " Each column corresponds to a feature as explained below.\n",
        "\n",
        "1.market_id : integer id for the market where the restaurant lies\n",
        "\n",
        "2.created_at : the timestamp at which the order was placed\n",
        "\n",
        "3.actual_delivery_time : the timestamp when the order was delivered\n",
        "\n",
        "4.store_primary_category : category for the restaurant\n",
        "\n",
        "5.order_protocol : integer code value for order protocol(how the order was placed ie: through porter, call to restaurant, pre booked, third part etc)\n",
        "\n",
        "6.total_items subtotal : final price of the order\n",
        "\n",
        "7.num_distinct_items : the number of distinct items in the order\n",
        "\n",
        "8.min_item_price : price of the cheapest item in the order\n",
        "\n",
        "9.max_item_price : price of the costliest item in order\n",
        "\n",
        "10.total_onshift_partners : number of delivery partners on duty at the time order was placed\n",
        "\n",
        "11.total_busy_partners : number of delivery partners attending to other tasks\n",
        "\n",
        "12.total_outstanding_orders : total number of orders to be fulfilled at the moment\n",
        "\n",
        "\n"
      ],
      "metadata": {
        "id": "EnRh_xvITJ_Z"
      }
    },
    {
      "cell_type": "code",
      "source": [
        "df.head()"
      ],
      "metadata": {
        "colab": {
          "base_uri": "https://localhost:8080/",
          "height": 357
        },
        "id": "MaoXmxLFTKJ6",
        "outputId": "aa8a622a-de1c-4257-a646-14d2b9ac8ef9"
      },
      "execution_count": 73,
      "outputs": [
        {
          "output_type": "execute_result",
          "data": {
            "text/plain": [
              "   market_id           created_at actual_delivery_time  \\\n",
              "0        1.0  2015-02-06 22:24:17  2015-02-06 23:27:16   \n",
              "1        2.0  2015-02-10 21:49:25  2015-02-10 22:56:29   \n",
              "2        3.0  2015-01-22 20:39:28  2015-01-22 21:09:09   \n",
              "3        3.0  2015-02-03 21:21:45  2015-02-03 22:13:00   \n",
              "4        3.0  2015-02-15 02:40:36  2015-02-15 03:20:26   \n",
              "\n",
              "                           store_id store_primary_category  order_protocol  \\\n",
              "0  df263d996281d984952c07998dc54358               american             1.0   \n",
              "1  f0ade77b43923b38237db569b016ba25                mexican             2.0   \n",
              "2  f0ade77b43923b38237db569b016ba25                    NaN             1.0   \n",
              "3  f0ade77b43923b38237db569b016ba25                    NaN             1.0   \n",
              "4  f0ade77b43923b38237db569b016ba25                    NaN             1.0   \n",
              "\n",
              "   total_items  subtotal  num_distinct_items  min_item_price  max_item_price  \\\n",
              "0            4      3441                   4             557            1239   \n",
              "1            1      1900                   1            1400            1400   \n",
              "2            1      1900                   1            1900            1900   \n",
              "3            6      6900                   5             600            1800   \n",
              "4            3      3900                   3            1100            1600   \n",
              "\n",
              "   total_onshift_partners  total_busy_partners  total_outstanding_orders  \n",
              "0                    33.0                 14.0                      21.0  \n",
              "1                     1.0                  2.0                       2.0  \n",
              "2                     1.0                  0.0                       0.0  \n",
              "3                     1.0                  1.0                       2.0  \n",
              "4                     6.0                  6.0                       9.0  "
            ],
            "text/html": [
              "\n",
              "  <div id=\"df-b32a3f47-1432-44f6-9cbd-08e9edfd0675\">\n",
              "    <div class=\"colab-df-container\">\n",
              "      <div>\n",
              "<style scoped>\n",
              "    .dataframe tbody tr th:only-of-type {\n",
              "        vertical-align: middle;\n",
              "    }\n",
              "\n",
              "    .dataframe tbody tr th {\n",
              "        vertical-align: top;\n",
              "    }\n",
              "\n",
              "    .dataframe thead th {\n",
              "        text-align: right;\n",
              "    }\n",
              "</style>\n",
              "<table border=\"1\" class=\"dataframe\">\n",
              "  <thead>\n",
              "    <tr style=\"text-align: right;\">\n",
              "      <th></th>\n",
              "      <th>market_id</th>\n",
              "      <th>created_at</th>\n",
              "      <th>actual_delivery_time</th>\n",
              "      <th>store_id</th>\n",
              "      <th>store_primary_category</th>\n",
              "      <th>order_protocol</th>\n",
              "      <th>total_items</th>\n",
              "      <th>subtotal</th>\n",
              "      <th>num_distinct_items</th>\n",
              "      <th>min_item_price</th>\n",
              "      <th>max_item_price</th>\n",
              "      <th>total_onshift_partners</th>\n",
              "      <th>total_busy_partners</th>\n",
              "      <th>total_outstanding_orders</th>\n",
              "    </tr>\n",
              "  </thead>\n",
              "  <tbody>\n",
              "    <tr>\n",
              "      <th>0</th>\n",
              "      <td>1.0</td>\n",
              "      <td>2015-02-06 22:24:17</td>\n",
              "      <td>2015-02-06 23:27:16</td>\n",
              "      <td>df263d996281d984952c07998dc54358</td>\n",
              "      <td>american</td>\n",
              "      <td>1.0</td>\n",
              "      <td>4</td>\n",
              "      <td>3441</td>\n",
              "      <td>4</td>\n",
              "      <td>557</td>\n",
              "      <td>1239</td>\n",
              "      <td>33.0</td>\n",
              "      <td>14.0</td>\n",
              "      <td>21.0</td>\n",
              "    </tr>\n",
              "    <tr>\n",
              "      <th>1</th>\n",
              "      <td>2.0</td>\n",
              "      <td>2015-02-10 21:49:25</td>\n",
              "      <td>2015-02-10 22:56:29</td>\n",
              "      <td>f0ade77b43923b38237db569b016ba25</td>\n",
              "      <td>mexican</td>\n",
              "      <td>2.0</td>\n",
              "      <td>1</td>\n",
              "      <td>1900</td>\n",
              "      <td>1</td>\n",
              "      <td>1400</td>\n",
              "      <td>1400</td>\n",
              "      <td>1.0</td>\n",
              "      <td>2.0</td>\n",
              "      <td>2.0</td>\n",
              "    </tr>\n",
              "    <tr>\n",
              "      <th>2</th>\n",
              "      <td>3.0</td>\n",
              "      <td>2015-01-22 20:39:28</td>\n",
              "      <td>2015-01-22 21:09:09</td>\n",
              "      <td>f0ade77b43923b38237db569b016ba25</td>\n",
              "      <td>NaN</td>\n",
              "      <td>1.0</td>\n",
              "      <td>1</td>\n",
              "      <td>1900</td>\n",
              "      <td>1</td>\n",
              "      <td>1900</td>\n",
              "      <td>1900</td>\n",
              "      <td>1.0</td>\n",
              "      <td>0.0</td>\n",
              "      <td>0.0</td>\n",
              "    </tr>\n",
              "    <tr>\n",
              "      <th>3</th>\n",
              "      <td>3.0</td>\n",
              "      <td>2015-02-03 21:21:45</td>\n",
              "      <td>2015-02-03 22:13:00</td>\n",
              "      <td>f0ade77b43923b38237db569b016ba25</td>\n",
              "      <td>NaN</td>\n",
              "      <td>1.0</td>\n",
              "      <td>6</td>\n",
              "      <td>6900</td>\n",
              "      <td>5</td>\n",
              "      <td>600</td>\n",
              "      <td>1800</td>\n",
              "      <td>1.0</td>\n",
              "      <td>1.0</td>\n",
              "      <td>2.0</td>\n",
              "    </tr>\n",
              "    <tr>\n",
              "      <th>4</th>\n",
              "      <td>3.0</td>\n",
              "      <td>2015-02-15 02:40:36</td>\n",
              "      <td>2015-02-15 03:20:26</td>\n",
              "      <td>f0ade77b43923b38237db569b016ba25</td>\n",
              "      <td>NaN</td>\n",
              "      <td>1.0</td>\n",
              "      <td>3</td>\n",
              "      <td>3900</td>\n",
              "      <td>3</td>\n",
              "      <td>1100</td>\n",
              "      <td>1600</td>\n",
              "      <td>6.0</td>\n",
              "      <td>6.0</td>\n",
              "      <td>9.0</td>\n",
              "    </tr>\n",
              "  </tbody>\n",
              "</table>\n",
              "</div>\n",
              "      <button class=\"colab-df-convert\" onclick=\"convertToInteractive('df-b32a3f47-1432-44f6-9cbd-08e9edfd0675')\"\n",
              "              title=\"Convert this dataframe to an interactive table.\"\n",
              "              style=\"display:none;\">\n",
              "        \n",
              "  <svg xmlns=\"http://www.w3.org/2000/svg\" height=\"24px\"viewBox=\"0 0 24 24\"\n",
              "       width=\"24px\">\n",
              "    <path d=\"M0 0h24v24H0V0z\" fill=\"none\"/>\n",
              "    <path d=\"M18.56 5.44l.94 2.06.94-2.06 2.06-.94-2.06-.94-.94-2.06-.94 2.06-2.06.94zm-11 1L8.5 8.5l.94-2.06 2.06-.94-2.06-.94L8.5 2.5l-.94 2.06-2.06.94zm10 10l.94 2.06.94-2.06 2.06-.94-2.06-.94-.94-2.06-.94 2.06-2.06.94z\"/><path d=\"M17.41 7.96l-1.37-1.37c-.4-.4-.92-.59-1.43-.59-.52 0-1.04.2-1.43.59L10.3 9.45l-7.72 7.72c-.78.78-.78 2.05 0 2.83L4 21.41c.39.39.9.59 1.41.59.51 0 1.02-.2 1.41-.59l7.78-7.78 2.81-2.81c.8-.78.8-2.07 0-2.86zM5.41 20L4 18.59l7.72-7.72 1.47 1.35L5.41 20z\"/>\n",
              "  </svg>\n",
              "      </button>\n",
              "      \n",
              "  <style>\n",
              "    .colab-df-container {\n",
              "      display:flex;\n",
              "      flex-wrap:wrap;\n",
              "      gap: 12px;\n",
              "    }\n",
              "\n",
              "    .colab-df-convert {\n",
              "      background-color: #E8F0FE;\n",
              "      border: none;\n",
              "      border-radius: 50%;\n",
              "      cursor: pointer;\n",
              "      display: none;\n",
              "      fill: #1967D2;\n",
              "      height: 32px;\n",
              "      padding: 0 0 0 0;\n",
              "      width: 32px;\n",
              "    }\n",
              "\n",
              "    .colab-df-convert:hover {\n",
              "      background-color: #E2EBFA;\n",
              "      box-shadow: 0px 1px 2px rgba(60, 64, 67, 0.3), 0px 1px 3px 1px rgba(60, 64, 67, 0.15);\n",
              "      fill: #174EA6;\n",
              "    }\n",
              "\n",
              "    [theme=dark] .colab-df-convert {\n",
              "      background-color: #3B4455;\n",
              "      fill: #D2E3FC;\n",
              "    }\n",
              "\n",
              "    [theme=dark] .colab-df-convert:hover {\n",
              "      background-color: #434B5C;\n",
              "      box-shadow: 0px 1px 3px 1px rgba(0, 0, 0, 0.15);\n",
              "      filter: drop-shadow(0px 1px 2px rgba(0, 0, 0, 0.3));\n",
              "      fill: #FFFFFF;\n",
              "    }\n",
              "  </style>\n",
              "\n",
              "      <script>\n",
              "        const buttonEl =\n",
              "          document.querySelector('#df-b32a3f47-1432-44f6-9cbd-08e9edfd0675 button.colab-df-convert');\n",
              "        buttonEl.style.display =\n",
              "          google.colab.kernel.accessAllowed ? 'block' : 'none';\n",
              "\n",
              "        async function convertToInteractive(key) {\n",
              "          const element = document.querySelector('#df-b32a3f47-1432-44f6-9cbd-08e9edfd0675');\n",
              "          const dataTable =\n",
              "            await google.colab.kernel.invokeFunction('convertToInteractive',\n",
              "                                                     [key], {});\n",
              "          if (!dataTable) return;\n",
              "\n",
              "          const docLinkHtml = 'Like what you see? Visit the ' +\n",
              "            '<a target=\"_blank\" href=https://colab.research.google.com/notebooks/data_table.ipynb>data table notebook</a>'\n",
              "            + ' to learn more about interactive tables.';\n",
              "          element.innerHTML = '';\n",
              "          dataTable['output_type'] = 'display_data';\n",
              "          await google.colab.output.renderOutput(dataTable, element);\n",
              "          const docLink = document.createElement('div');\n",
              "          docLink.innerHTML = docLinkHtml;\n",
              "          element.appendChild(docLink);\n",
              "        }\n",
              "      </script>\n",
              "    </div>\n",
              "  </div>\n",
              "  "
            ]
          },
          "metadata": {},
          "execution_count": 73
        }
      ]
    },
    {
      "cell_type": "markdown",
      "source": [
        "##EDA(Explortory Data Analysis)"
      ],
      "metadata": {
        "id": "qeGOJyOkX7Bl"
      }
    },
    {
      "cell_type": "markdown",
      "source": [
        "##Data preprocessing\n",
        "\n",
        "### Missing Values "
      ],
      "metadata": {
        "id": "N8OA6s-RTKUN"
      }
    },
    {
      "cell_type": "code",
      "source": [
        "plt.figure(figsize=(15,5))\n",
        "sns.heatmap(df.isna().transpose(),\n",
        "            cmap=\"YlGnBu\",\n",
        "           cbar_kws={'label': 'Missing Data'})"
      ],
      "metadata": {
        "colab": {
          "base_uri": "https://localhost:8080/",
          "height": 447
        },
        "id": "tnshrqRGTKjy",
        "outputId": "0cb27f58-44ea-4908-f24c-641b56bf312f"
      },
      "execution_count": 74,
      "outputs": [
        {
          "output_type": "execute_result",
          "data": {
            "text/plain": [
              "<Axes: >"
            ]
          },
          "metadata": {},
          "execution_count": 74
        },
        {
          "output_type": "display_data",
          "data": {
            "text/plain": [
              "<Figure size 1500x500 with 2 Axes>"
            ],
            "image/png": "[encoded data removed]"
          },
          "metadata": {}
        }
      ]
    },
    {
      "cell_type": "markdown",
      "source": [],
      "metadata": {
        "id": "5PVoCa63WB-S"
      }
    },
    {
      "cell_type": "code",
      "source": [
        "# Missing Values\n",
        "null_values= pd.DataFrame({\"Null Values\" : df.isna().sum(),\n",
        "                           \"Percentage Null Value\": (df.isna().sum()/(df.shape[0])*(100))})\n",
        "null_values"
      ],
      "metadata": {
        "colab": {
          "base_uri": "https://localhost:8080/",
          "height": 488
        },
        "id": "8RItKKNXV_TG",
        "outputId": "ce8893e1-d1a0-44e1-aade-1d1b9558ce9e"
      },
      "execution_count": 75,
      "outputs": [
        {
          "output_type": "execute_result",
          "data": {
            "text/plain": [
              "                          Null Values  Percentage Null Value\n",
              "market_id                         987               0.499929\n",
              "created_at                          0               0.000000\n",
              "actual_delivery_time                7               0.003546\n",
              "store_id                            0               0.000000\n",
              "store_primary_category           4760               2.411006\n",
              "order_protocol                    995               0.503981\n",
              "total_items                         0               0.000000\n",
              "subtotal                            0               0.000000\n",
              "num_distinct_items                  0               0.000000\n",
              "min_item_price                      0               0.000000\n",
              "max_item_price                      0               0.000000\n",
              "total_onshift_partners          16262               8.236927\n",
              "total_busy_partners             16262               8.236927\n",
              "total_outstanding_orders        16262               8.236927"
            ],
            "text/html": [
              "\n",
              "  <div id=\"df-7ea8be1a-a652-44f0-92a8-bb176c0ef79f\">\n",
              "    <div class=\"colab-df-container\">\n",
              "      <div>\n",
              "<style scoped>\n",
              "    .dataframe tbody tr th:only-of-type {\n",
              "        vertical-align: middle;\n",
              "    }\n",
              "\n",
              "    .dataframe tbody tr th {\n",
              "        vertical-align: top;\n",
              "    }\n",
              "\n",
              "    .dataframe thead th {\n",
              "        text-align: right;\n",
              "    }\n",
              "</style>\n",
              "<table border=\"1\" class=\"dataframe\">\n",
              "  <thead>\n",
              "    <tr style=\"text-align: right;\">\n",
              "      <th></th>\n",
              "      <th>Null Values</th>\n",
              "      <th>Percentage Null Value</th>\n",
              "    </tr>\n",
              "  </thead>\n",
              "  <tbody>\n",
              "    <tr>\n",
              "      <th>market_id</th>\n",
              "      <td>987</td>\n",
              "      <td>0.499929</td>\n",
              "    </tr>\n",
              "    <tr>\n",
              "      <th>created_at</th>\n",
              "      <td>0</td>\n",
              "      <td>0.000000</td>\n",
              "    </tr>\n",
              "    <tr>\n",
              "      <th>actual_delivery_time</th>\n",
              "      <td>7</td>\n",
              "      <td>0.003546</td>\n",
              "    </tr>\n",
              "    <tr>\n",
              "      <th>store_id</th>\n",
              "      <td>0</td>\n",
              "      <td>0.000000</td>\n",
              "    </tr>\n",
              "    <tr>\n",
              "      <th>store_primary_category</th>\n",
              "      <td>4760</td>\n",
              "      <td>2.411006</td>\n",
              "    </tr>\n",
              "    <tr>\n",
              "      <th>order_protocol</th>\n",
              "      <td>995</td>\n",
              "      <td>0.503981</td>\n",
              "    </tr>\n",
              "    <tr>\n",
              "      <th>total_items</th>\n",
              "      <td>0</td>\n",
              "      <td>0.000000</td>\n",
              "    </tr>\n",
              "    <tr>\n",
              "      <th>subtotal</th>\n",
              "      <td>0</td>\n",
              "      <td>0.000000</td>\n",
              "    </tr>\n",
              "    <tr>\n",
              "      <th>num_distinct_items</th>\n",
              "      <td>0</td>\n",
              "      <td>0.000000</td>\n",
              "    </tr>\n",
              "    <tr>\n",
              "      <th>min_item_price</th>\n",
              "      <td>0</td>\n",
              "      <td>0.000000</td>\n",
              "    </tr>\n",
              "    <tr>\n",
              "      <th>max_item_price</th>\n",
              "      <td>0</td>\n",
              "      <td>0.000000</td>\n",
              "    </tr>\n",
              "    <tr>\n",
              "      <th>total_onshift_partners</th>\n",
              "      <td>16262</td>\n",
              "      <td>8.236927</td>\n",
              "    </tr>\n",
              "    <tr>\n",
              "      <th>total_busy_partners</th>\n",
              "      <td>16262</td>\n",
              "      <td>8.236927</td>\n",
              "    </tr>\n",
              "    <tr>\n",
              "      <th>total_outstanding_orders</th>\n",
              "      <td>16262</td>\n",
              "      <td>8.236927</td>\n",
              "    </tr>\n",
              "  </tbody>\n",
              "</table>\n",
              "</div>\n",
              "      <button class=\"colab-df-convert\" onclick=\"convertToInteractive('df-7ea8be1a-a652-44f0-92a8-bb176c0ef79f')\"\n",
              "              title=\"Convert this dataframe to an interactive table.\"\n",
              "              style=\"display:none;\">\n",
              "        \n",
              "  <svg xmlns=\"http://www.w3.org/2000/svg\" height=\"24px\"viewBox=\"0 0 24 24\"\n",
              "       width=\"24px\">\n",
              "    <path d=\"M0 0h24v24H0V0z\" fill=\"none\"/>\n",
              "    <path d=\"M18.56 5.44l.94 2.06.94-2.06 2.06-.94-2.06-.94-.94-2.06-.94 2.06-2.06.94zm-11 1L8.5 8.5l.94-2.06 2.06-.94-2.06-.94L8.5 2.5l-.94 2.06-2.06.94zm10 10l.94 2.06.94-2.06 2.06-.94-2.06-.94-.94-2.06-.94 2.06-2.06.94z\"/><path d=\"M17.41 7.96l-1.37-1.37c-.4-.4-.92-.59-1.43-.59-.52 0-1.04.2-1.43.59L10.3 9.45l-7.72 7.72c-.78.78-.78 2.05 0 2.83L4 21.41c.39.39.9.59 1.41.59.51 0 1.02-.2 1.41-.59l7.78-7.78 2.81-2.81c.8-.78.8-2.07 0-2.86zM5.41 20L4 18.59l7.72-7.72 1.47 1.35L5.41 20z\"/>\n",
              "  </svg>\n",
              "      </button>\n",
              "      \n",
              "  <style>\n",
              "    .colab-df-container {\n",
              "      display:flex;\n",
              "      flex-wrap:wrap;\n",
              "      gap: 12px;\n",
              "    }\n",
              "\n",
              "    .colab-df-convert {\n",
              "      background-color: #E8F0FE;\n",
              "      border: none;\n",
              "      border-radius: 50%;\n",
              "      cursor: pointer;\n",
              "      display: none;\n",
              "      fill: #1967D2;\n",
              "      height: 32px;\n",
              "      padding: 0 0 0 0;\n",
              "      width: 32px;\n",
              "    }\n",
              "\n",
              "    .colab-df-convert:hover {\n",
              "      background-color: #E2EBFA;\n",
              "      box-shadow: 0px 1px 2px rgba(60, 64, 67, 0.3), 0px 1px 3px 1px rgba(60, 64, 67, 0.15);\n",
              "      fill: #174EA6;\n",
              "    }\n",
              "\n",
              "    [theme=dark] .colab-df-convert {\n",
              "      background-color: #3B4455;\n",
              "      fill: #D2E3FC;\n",
              "    }\n",
              "\n",
              "    [theme=dark] .colab-df-convert:hover {\n",
              "      background-color: #434B5C;\n",
              "      box-shadow: 0px 1px 3px 1px rgba(0, 0, 0, 0.15);\n",
              "      filter: drop-shadow(0px 1px 2px rgba(0, 0, 0, 0.3));\n",
              "      fill: #FFFFFF;\n",
              "    }\n",
              "  </style>\n",
              "\n",
              "      <script>\n",
              "        const buttonEl =\n",
              "          document.querySelector('#df-7ea8be1a-a652-44f0-92a8-bb176c0ef79f button.colab-df-convert');\n",
              "        buttonEl.style.display =\n",
              "          google.colab.kernel.accessAllowed ? 'block' : 'none';\n",
              "\n",
              "        async function convertToInteractive(key) {\n",
              "          const element = document.querySelector('#df-7ea8be1a-a652-44f0-92a8-bb176c0ef79f');\n",
              "          const dataTable =\n",
              "            await google.colab.kernel.invokeFunction('convertToInteractive',\n",
              "                                                     [key], {});\n",
              "          if (!dataTable) return;\n",
              "\n",
              "          const docLinkHtml = 'Like what you see? Visit the ' +\n",
              "            '<a target=\"_blank\" href=https://colab.research.google.com/notebooks/data_table.ipynb>data table notebook</a>'\n",
              "            + ' to learn more about interactive tables.';\n",
              "          element.innerHTML = '';\n",
              "          dataTable['output_type'] = 'display_data';\n",
              "          await google.colab.output.renderOutput(dataTable, element);\n",
              "          const docLink = document.createElement('div');\n",
              "          docLink.innerHTML = docLinkHtml;\n",
              "          element.appendChild(docLink);\n",
              "        }\n",
              "      </script>\n",
              "    </div>\n",
              "  </div>\n",
              "  "
            ]
          },
          "metadata": {},
          "execution_count": 75
        }
      ]
    },
    {
      "cell_type": "code",
      "source": [
        "df.market_id.unique()"
      ],
      "metadata": {
        "colab": {
          "base_uri": "https://localhost:8080/"
        },
        "id": "tnm4Nk2ngGbU",
        "outputId": "5d4c45b3-76fb-4432-f480-bdce8831ea2a"
      },
      "execution_count": 76,
      "outputs": [
        {
          "output_type": "execute_result",
          "data": {
            "text/plain": [
              "array([ 1.,  2.,  3.,  4., nan,  5.,  6.])"
            ]
          },
          "metadata": {},
          "execution_count": 76
        }
      ]
    },
    {
      "cell_type": "code",
      "source": [
        "df.market_id.value_counts()"
      ],
      "metadata": {
        "colab": {
          "base_uri": "https://localhost:8080/"
        },
        "id": "zNmbPeu0gmkZ",
        "outputId": "05f657d6-b102-4572-c6bd-f86151c7ce4e"
      },
      "execution_count": 77,
      "outputs": [
        {
          "output_type": "execute_result",
          "data": {
            "text/plain": [
              "2.0    55058\n",
              "4.0    47599\n",
              "1.0    38037\n",
              "3.0    23297\n",
              "5.0    18000\n",
              "6.0    14450\n",
              "Name: market_id, dtype: int64"
            ]
          },
          "metadata": {},
          "execution_count": 77
        }
      ]
    },
    {
      "cell_type": "code",
      "source": [
        "\n",
        "mode_value = df['market_id'].mode()[0]\n",
        "print(mode_value)\n",
        "\n",
        "# Impute missing values with the mode\n",
        "df['market_id'].fillna(mode_value, inplace=True)"
      ],
      "metadata": {
        "colab": {
          "base_uri": "https://localhost:8080/"
        },
        "id": "7NZNIbH8gdZp",
        "outputId": "ad8bd19d-cfe1-49f9-e457-0f68e406dd38"
      },
      "execution_count": 78,
      "outputs": [
        {
          "output_type": "stream",
          "name": "stdout",
          "text": [
            "2.0\n"
          ]
        }
      ]
    },
    {
      "cell_type": "code",
      "source": [
        "df.order_protocol.unique()"
      ],
      "metadata": {
        "colab": {
          "base_uri": "https://localhost:8080/"
        },
        "id": "m3xTXMWfgyGY",
        "outputId": "b9d04133-7f2e-4eae-84f6-6651408ba1bc"
      },
      "execution_count": 79,
      "outputs": [
        {
          "output_type": "execute_result",
          "data": {
            "text/plain": [
              "array([ 1.,  2.,  3.,  4., nan,  5.,  6.,  7.])"
            ]
          },
          "metadata": {},
          "execution_count": 79
        }
      ]
    },
    {
      "cell_type": "code",
      "source": [
        "df.order_protocol.value_counts()"
      ],
      "metadata": {
        "colab": {
          "base_uri": "https://localhost:8080/"
        },
        "id": "u_9DHABUgya9",
        "outputId": "b3d8cfe9-b89b-4acb-a126-ecc9e0d4ffdb"
      },
      "execution_count": 80,
      "outputs": [
        {
          "output_type": "execute_result",
          "data": {
            "text/plain": [
              "1.0    54725\n",
              "3.0    53199\n",
              "5.0    44290\n",
              "2.0    24052\n",
              "4.0    19354\n",
              "6.0      794\n",
              "7.0       19\n",
              "Name: order_protocol, dtype: int64"
            ]
          },
          "metadata": {},
          "execution_count": 80
        }
      ]
    },
    {
      "cell_type": "code",
      "source": [
        "\n",
        "mode_value = df['order_protocol'].mode()[0]\n",
        "print(mode_value)\n",
        "\n",
        "# Impute missing values with the mode\n",
        "df['order_protocol'].fillna(mode_value, inplace=True)"
      ],
      "metadata": {
        "colab": {
          "base_uri": "https://localhost:8080/"
        },
        "id": "KZiLjK3thFou",
        "outputId": "16fac06c-cf61-4641-f946-0a7c023ba9a4"
      },
      "execution_count": 81,
      "outputs": [
        {
          "output_type": "stream",
          "name": "stdout",
          "text": [
            "1.0\n"
          ]
        }
      ]
    },
    {
      "cell_type": "code",
      "source": [
        "df.total_onshift_partners.unique()"
      ],
      "metadata": {
        "colab": {
          "base_uri": "https://localhost:8080/"
        },
        "id": "MqsLeqm9hF50",
        "outputId": "68fee70a-c84d-458b-9573-2875211dba97"
      },
      "execution_count": 82,
      "outputs": [
        {
          "output_type": "execute_result",
          "data": {
            "text/plain": [
              "array([ 33.,   1.,   6.,   2.,  10.,   7.,   8.,   3.,  16.,   5.,   4.,\n",
              "        24.,  12.,  19.,  21.,  22.,  27.,  13.,  18., 117., 130., 121.,\n",
              "        94.,  34.,  17.,  38.,  20.,  15.,  39.,  26.,  30.,  35.,  11.,\n",
              "        14.,  32.,  29.,  25.,  23.,  61.,  41.,  58.,  51.,  57.,  60.,\n",
              "         9., 108.,  72.,  89., 112.,  55., 126.,  80.,  69., 125., 113.,\n",
              "       105.,  98.,  86.,  90.,  87.,  74.,  84.,  91.,  96., 123., 101.,\n",
              "       119.,  nan, 129.,  66.,  81.,  36.,  75.,  43.,  70.,  65.,  77.,\n",
              "       114.,  62., 116., 102.,  76.,  67.,  64.,  88.,  73.,  63.,  46.,\n",
              "        28.,  47., 110.,  97.,  42.,  79.,  49.,  50.,  37.,  92., 103.,\n",
              "        44.,  68.,  56.,   0., 107.,  78.,  71., 128., 104.,  45.,  31.,\n",
              "       100.,  40.,  53., 115., 109.,  99.,  85.,  59., 118.,  54.,  52.,\n",
              "        48., 132., 127., 133., 131., 149.,  93., 111.,  95.,  82., 136.,\n",
              "       120., 134., 124., 106., 137.,  83., 152., 147., 144., 150., 145.,\n",
              "       122., 155., 135., 151., 140., 141., 143., 138., 139., 156., 146.,\n",
              "        -2., 160., 158., 154., 153., 148., 142., 157., 171.,  -1.,  -3.,\n",
              "       162., 165., 163., 164., 159., 169.,  -4., 168.])"
            ]
          },
          "metadata": {},
          "execution_count": 82
        }
      ]
    },
    {
      "cell_type": "code",
      "source": [
        "df.total_onshift_partners.value_counts()"
      ],
      "metadata": {
        "colab": {
          "base_uri": "https://localhost:8080/"
        },
        "id": "d9P5E0UWhR3A",
        "outputId": "844d5eb3-d94f-4e7a-e99d-9b2883c0ab87"
      },
      "execution_count": 83,
      "outputs": [
        {
          "output_type": "execute_result",
          "data": {
            "text/plain": [
              " 0.0      3615\n",
              " 18.0     2924\n",
              " 15.0     2912\n",
              " 21.0     2841\n",
              " 19.0     2824\n",
              "          ... \n",
              " 164.0       1\n",
              " 159.0       1\n",
              " 169.0       1\n",
              "-4.0         1\n",
              " 168.0       1\n",
              "Name: total_onshift_partners, Length: 172, dtype: int64"
            ]
          },
          "metadata": {},
          "execution_count": 83
        }
      ]
    },
    {
      "cell_type": "code",
      "source": [
        "median_value = df['total_onshift_partners'].median()\n",
        "\n",
        "df['total_onshift_partners'].fillna(median_value, inplace=True)"
      ],
      "metadata": {
        "id": "WsDe2f8uhR6z"
      },
      "execution_count": 84,
      "outputs": []
    },
    {
      "cell_type": "code",
      "source": [
        "median_value = df['total_busy_partners'].median()\n",
        "\n",
        "df['total_busy_partners'].fillna(median_value, inplace=True)"
      ],
      "metadata": {
        "id": "DWSlvAs-hR-h"
      },
      "execution_count": 85,
      "outputs": []
    },
    {
      "cell_type": "code",
      "source": [
        "median_value = df['total_outstanding_orders'].median()\n",
        "\n",
        "df['total_outstanding_orders'].fillna(median_value, inplace=True)"
      ],
      "metadata": {
        "id": "yauKtpQ7iism"
      },
      "execution_count": 86,
      "outputs": []
    },
    {
      "cell_type": "code",
      "source": [
        "\n",
        "df['actual_delivery_time'] = df['actual_delivery_time'].fillna(method='ffill')"
      ],
      "metadata": {
        "id": "mBZiy3jKegIW"
      },
      "execution_count": 87,
      "outputs": []
    },
    {
      "cell_type": "code",
      "source": [
        "df.store_primary_category.unique()"
      ],
      "metadata": {
        "colab": {
          "base_uri": "https://localhost:8080/"
        },
        "id": "T91DchHSjKy3",
        "outputId": "dc8e5987-9548-4d70-9cec-03e13f2c5d56"
      },
      "execution_count": 88,
      "outputs": [
        {
          "output_type": "execute_result",
          "data": {
            "text/plain": [
              "array(['american', 'mexican', nan, 'indian', 'italian', 'sandwich',\n",
              "       'thai', 'cafe', 'salad', 'pizza', 'chinese', 'singaporean',\n",
              "       'burger', 'breakfast', 'mediterranean', 'japanese', 'greek',\n",
              "       'catering', 'filipino', 'convenience-store', 'other', 'korean',\n",
              "       'vegan', 'asian', 'barbecue', 'fast', 'dessert', 'smoothie',\n",
              "       'seafood', 'vietnamese', 'cajun', 'steak', 'middle-eastern',\n",
              "       'soup', 'vegetarian', 'persian', 'nepalese', 'sushi',\n",
              "       'latin-american', 'hawaiian', 'chocolate', 'burmese', 'british',\n",
              "       'pasta', 'alcohol', 'dim-sum', 'peruvian', 'turkish', 'malaysian',\n",
              "       'ethiopian', 'afghan', 'bubble-tea', 'german', 'french',\n",
              "       'caribbean', 'gluten-free', 'comfort-food', 'gastropub',\n",
              "       'pakistani', 'moroccan', 'spanish', 'southern', 'tapas', 'russian',\n",
              "       'brazilian', 'european', 'cheese', 'african', 'argentine',\n",
              "       'kosher', 'irish', 'lebanese', 'belgian', 'indonesian',\n",
              "       'alcohol-plus-food'], dtype=object)"
            ]
          },
          "metadata": {},
          "execution_count": 88
        }
      ]
    },
    {
      "cell_type": "code",
      "source": [
        "df.store_primary_category.value_counts()"
      ],
      "metadata": {
        "colab": {
          "base_uri": "https://localhost:8080/"
        },
        "id": "QLRaC2cxjTOT",
        "outputId": "31906bfa-1a33-44ca-b242-716a2e6c8546"
      },
      "execution_count": 89,
      "outputs": [
        {
          "output_type": "execute_result",
          "data": {
            "text/plain": [
              "american             19399\n",
              "pizza                17321\n",
              "mexican              17099\n",
              "burger               10958\n",
              "sandwich             10060\n",
              "                     ...  \n",
              "lebanese                 9\n",
              "belgian                  2\n",
              "indonesian               2\n",
              "chocolate                1\n",
              "alcohol-plus-food        1\n",
              "Name: store_primary_category, Length: 74, dtype: int64"
            ]
          },
          "metadata": {},
          "execution_count": 89
        }
      ]
    },
    {
      "cell_type": "code",
      "source": [
        "\n",
        "df['store_primary_category'] = df['store_primary_category'].fillna(method='ffill')"
      ],
      "metadata": {
        "id": "Q2qy407oj6y2"
      },
      "execution_count": 90,
      "outputs": []
    },
    {
      "cell_type": "code",
      "source": [
        "# Missing Values\n",
        "null_values= pd.DataFrame({\"Null Values\" : df.isna().sum(),\n",
        "                           \"Percentage Null Value\": (df.isna().sum()/(df.shape[0])*(100))})\n",
        "null_values"
      ],
      "metadata": {
        "colab": {
          "base_uri": "https://localhost:8080/",
          "height": 488
        },
        "id": "NP36nGxbi4Hh",
        "outputId": "ed57dd7d-dec5-4064-b088-68e165eb7b35"
      },
      "execution_count": 93,
      "outputs": [
        {
          "output_type": "execute_result",
          "data": {
            "text/plain": [
              "                          Null Values  Percentage Null Value\n",
              "market_id                           0                    0.0\n",
              "created_at                          0                    0.0\n",
              "actual_delivery_time                0                    0.0\n",
              "store_id                            0                    0.0\n",
              "store_primary_category              0                    0.0\n",
              "order_protocol                      0                    0.0\n",
              "total_items                         0                    0.0\n",
              "subtotal                            0                    0.0\n",
              "num_distinct_items                  0                    0.0\n",
              "min_item_price                      0                    0.0\n",
              "max_item_price                      0                    0.0\n",
              "total_onshift_partners              0                    0.0\n",
              "total_busy_partners                 0                    0.0\n",
              "total_outstanding_orders            0                    0.0"
            ],
            "text/html": [
              "\n",
              "  <div id=\"df-3d642fee-e2ed-4302-8bfd-3580d084d055\">\n",
              "    <div class=\"colab-df-container\">\n",
              "      <div>\n",
              "<style scoped>\n",
              "    .dataframe tbody tr th:only-of-type {\n",
              "        vertical-align: middle;\n",
              "    }\n",
              "\n",
              "    .dataframe tbody tr th {\n",
              "        vertical-align: top;\n",
              "    }\n",
              "\n",
              "    .dataframe thead th {\n",
              "        text-align: right;\n",
              "    }\n",
              "</style>\n",
              "<table border=\"1\" class=\"dataframe\">\n",
              "  <thead>\n",
              "    <tr style=\"text-align: right;\">\n",
              "      <th></th>\n",
              "      <th>Null Values</th>\n",
              "      <th>Percentage Null Value</th>\n",
              "    </tr>\n",
              "  </thead>\n",
              "  <tbody>\n",
              "    <tr>\n",
              "      <th>market_id</th>\n",
              "      <td>0</td>\n",
              "      <td>0.0</td>\n",
              "    </tr>\n",
              "    <tr>\n",
              "      <th>created_at</th>\n",
              "      <td>0</td>\n",
              "      <td>0.0</td>\n",
              "    </tr>\n",
              "    <tr>\n",
              "      <th>actual_delivery_time</th>\n",
              "      <td>0</td>\n",
              "      <td>0.0</td>\n",
              "    </tr>\n",
              "    <tr>\n",
              "      <th>store_id</th>\n",
              "      <td>0</td>\n",
              "      <td>0.0</td>\n",
              "    </tr>\n",
              "    <tr>\n",
              "      <th>store_primary_category</th>\n",
              "      <td>0</td>\n",
              "      <td>0.0</td>\n",
              "    </tr>\n",
              "    <tr>\n",
              "      <th>order_protocol</th>\n",
              "      <td>0</td>\n",
              "      <td>0.0</td>\n",
              "    </tr>\n",
              "    <tr>\n",
              "      <th>total_items</th>\n",
              "      <td>0</td>\n",
              "      <td>0.0</td>\n",
              "    </tr>\n",
              "    <tr>\n",
              "      <th>subtotal</th>\n",
              "      <td>0</td>\n",
              "      <td>0.0</td>\n",
              "    </tr>\n",
              "    <tr>\n",
              "      <th>num_distinct_items</th>\n",
              "      <td>0</td>\n",
              "      <td>0.0</td>\n",
              "    </tr>\n",
              "    <tr>\n",
              "      <th>min_item_price</th>\n",
              "      <td>0</td>\n",
              "      <td>0.0</td>\n",
              "    </tr>\n",
              "    <tr>\n",
              "      <th>max_item_price</th>\n",
              "      <td>0</td>\n",
              "      <td>0.0</td>\n",
              "    </tr>\n",
              "    <tr>\n",
              "      <th>total_onshift_partners</th>\n",
              "      <td>0</td>\n",
              "      <td>0.0</td>\n",
              "    </tr>\n",
              "    <tr>\n",
              "      <th>total_busy_partners</th>\n",
              "      <td>0</td>\n",
              "      <td>0.0</td>\n",
              "    </tr>\n",
              "    <tr>\n",
              "      <th>total_outstanding_orders</th>\n",
              "      <td>0</td>\n",
              "      <td>0.0</td>\n",
              "    </tr>\n",
              "  </tbody>\n",
              "</table>\n",
              "</div>\n",
              "      <button class=\"colab-df-convert\" onclick=\"convertToInteractive('df-3d642fee-e2ed-4302-8bfd-3580d084d055')\"\n",
              "              title=\"Convert this dataframe to an interactive table.\"\n",
              "              style=\"display:none;\">\n",
              "        \n",
              "  <svg xmlns=\"http://www.w3.org/2000/svg\" height=\"24px\"viewBox=\"0 0 24 24\"\n",
              "       width=\"24px\">\n",
              "    <path d=\"M0 0h24v24H0V0z\" fill=\"none\"/>\n",
              "    <path d=\"M18.56 5.44l.94 2.06.94-2.06 2.06-.94-2.06-.94-.94-2.06-.94 2.06-2.06.94zm-11 1L8.5 8.5l.94-2.06 2.06-.94-2.06-.94L8.5 2.5l-.94 2.06-2.06.94zm10 10l.94 2.06.94-2.06 2.06-.94-2.06-.94-.94-2.06-.94 2.06-2.06.94z\"/><path d=\"M17.41 7.96l-1.37-1.37c-.4-.4-.92-.59-1.43-.59-.52 0-1.04.2-1.43.59L10.3 9.45l-7.72 7.72c-.78.78-.78 2.05 0 2.83L4 21.41c.39.39.9.59 1.41.59.51 0 1.02-.2 1.41-.59l7.78-7.78 2.81-2.81c.8-.78.8-2.07 0-2.86zM5.41 20L4 18.59l7.72-7.72 1.47 1.35L5.41 20z\"/>\n",
              "  </svg>\n",
              "      </button>\n",
              "      \n",
              "  <style>\n",
              "    .colab-df-container {\n",
              "      display:flex;\n",
              "      flex-wrap:wrap;\n",
              "      gap: 12px;\n",
              "    }\n",
              "\n",
              "    .colab-df-convert {\n",
              "      background-color: #E8F0FE;\n",
              "      border: none;\n",
              "      border-radius: 50%;\n",
              "      cursor: pointer;\n",
              "      display: none;\n",
              "      fill: #1967D2;\n",
              "      height: 32px;\n",
              "      padding: 0 0 0 0;\n",
              "      width: 32px;\n",
              "    }\n",
              "\n",
              "    .colab-df-convert:hover {\n",
              "      background-color: #E2EBFA;\n",
              "      box-shadow: 0px 1px 2px rgba(60, 64, 67, 0.3), 0px 1px 3px 1px rgba(60, 64, 67, 0.15);\n",
              "      fill: #174EA6;\n",
              "    }\n",
              "\n",
              "    [theme=dark] .colab-df-convert {\n",
              "      background-color: #3B4455;\n",
              "      fill: #D2E3FC;\n",
              "    }\n",
              "\n",
              "    [theme=dark] .colab-df-convert:hover {\n",
              "      background-color: #434B5C;\n",
              "      box-shadow: 0px 1px 3px 1px rgba(0, 0, 0, 0.15);\n",
              "      filter: drop-shadow(0px 1px 2px rgba(0, 0, 0, 0.3));\n",
              "      fill: #FFFFFF;\n",
              "    }\n",
              "  </style>\n",
              "\n",
              "      <script>\n",
              "        const buttonEl =\n",
              "          document.querySelector('#df-3d642fee-e2ed-4302-8bfd-3580d084d055 button.colab-df-convert');\n",
              "        buttonEl.style.display =\n",
              "          google.colab.kernel.accessAllowed ? 'block' : 'none';\n",
              "\n",
              "        async function convertToInteractive(key) {\n",
              "          const element = document.querySelector('#df-3d642fee-e2ed-4302-8bfd-3580d084d055');\n",
              "          const dataTable =\n",
              "            await google.colab.kernel.invokeFunction('convertToInteractive',\n",
              "                                                     [key], {});\n",
              "          if (!dataTable) return;\n",
              "\n",
              "          const docLinkHtml = 'Like what you see? Visit the ' +\n",
              "            '<a target=\"_blank\" href=https://colab.research.google.com/notebooks/data_table.ipynb>data table notebook</a>'\n",
              "            + ' to learn more about interactive tables.';\n",
              "          element.innerHTML = '';\n",
              "          dataTable['output_type'] = 'display_data';\n",
              "          await google.colab.output.renderOutput(dataTable, element);\n",
              "          const docLink = document.createElement('div');\n",
              "          docLink.innerHTML = docLinkHtml;\n",
              "          element.appendChild(docLink);\n",
              "        }\n",
              "      </script>\n",
              "    </div>\n",
              "  </div>\n",
              "  "
            ]
          },
          "metadata": {},
          "execution_count": 93
        }
      ]
    },
    {
      "cell_type": "code",
      "source": [
        "df.head()"
      ],
      "metadata": {
        "colab": {
          "base_uri": "https://localhost:8080/",
          "height": 386
        },
        "id": "umuxlQXMWHpB",
        "outputId": "487d0f4e-dda6-4851-d34b-4dbce16d6202"
      },
      "execution_count": 112,
      "outputs": [
        {
          "output_type": "execute_result",
          "data": {
            "text/plain": [
              "   market_id          created_at actual_delivery_time  \\\n",
              "0        1.0 2015-02-06 22:24:17  2015-02-06 23:27:16   \n",
              "1        2.0 2015-02-10 21:49:25  2015-02-10 22:56:29   \n",
              "2        3.0 2015-01-22 20:39:28  2015-01-22 21:09:09   \n",
              "3        3.0 2015-02-03 21:21:45  2015-02-03 22:13:00   \n",
              "4        3.0 2015-02-15 02:40:36  2015-02-15 03:20:26   \n",
              "\n",
              "                           store_id store_primary_category  order_protocol  \\\n",
              "0  df263d996281d984952c07998dc54358               american             1.0   \n",
              "1  f0ade77b43923b38237db569b016ba25                mexican             2.0   \n",
              "2  f0ade77b43923b38237db569b016ba25                mexican             1.0   \n",
              "3  f0ade77b43923b38237db569b016ba25                mexican             1.0   \n",
              "4  f0ade77b43923b38237db569b016ba25                mexican             1.0   \n",
              "\n",
              "   total_items  subtotal  num_distinct_items  min_item_price  ...  \\\n",
              "0            4      3441                   4             557  ...   \n",
              "1            1      1900                   1            1400  ...   \n",
              "2            1      1900                   1            1900  ...   \n",
              "3            6      6900                   5             600  ...   \n",
              "4            3      3900                   3            1100  ...   \n",
              "\n",
              "   total_onshift_partners  total_busy_partners  total_outstanding_orders  \\\n",
              "0                    33.0                 14.0                      21.0   \n",
              "1                     1.0                  2.0                       2.0   \n",
              "2                     1.0                  0.0                       0.0   \n",
              "3                     1.0                  1.0                       2.0   \n",
              "4                     6.0                  6.0                       9.0   \n",
              "\n",
              "   created_date created_time actual_delivery_date actual_deli_time  \\\n",
              "0    2015-02-06     22:24:17           2015-02-06         23:27:16   \n",
              "1    2015-02-10     21:49:25           2015-02-10         22:56:29   \n",
              "2    2015-01-22     20:39:28           2015-01-22         21:09:09   \n",
              "3    2015-02-03     21:21:45           2015-02-03         22:13:00   \n",
              "4    2015-02-15     02:40:36           2015-02-15         03:20:26   \n",
              "\n",
              "  time_difference_minutes  created_day_of_week actual_delivery_day_of_week  \n",
              "0               62.983333               Friday                      Friday  \n",
              "1               67.066667              Tuesday                     Tuesday  \n",
              "2               29.683333             Thursday                    Thursday  \n",
              "3               51.250000              Tuesday                     Tuesday  \n",
              "4               39.833333               Sunday                      Sunday  \n",
              "\n",
              "[5 rows x 21 columns]"
            ],
            "text/html": [
              "\n",
              "  <div id=\"df-776a8e85-5ee3-4a14-84c7-efc35c2739a1\">\n",
              "    <div class=\"colab-df-container\">\n",
              "      <div>\n",
              "<style scoped>\n",
              "    .dataframe tbody tr th:only-of-type {\n",
              "        vertical-align: middle;\n",
              "    }\n",
              "\n",
              "    .dataframe tbody tr th {\n",
              "        vertical-align: top;\n",
              "    }\n",
              "\n",
              "    .dataframe thead th {\n",
              "        text-align: right;\n",
              "    }\n",
              "</style>\n",
              "<table border=\"1\" class=\"dataframe\">\n",
              "  <thead>\n",
              "    <tr style=\"text-align: right;\">\n",
              "      <th></th>\n",
              "      <th>market_id</th>\n",
              "      <th>created_at</th>\n",
              "      <th>actual_delivery_time</th>\n",
              "      <th>store_id</th>\n",
              "      <th>store_primary_category</th>\n",
              "      <th>order_protocol</th>\n",
              "      <th>total_items</th>\n",
              "      <th>subtotal</th>\n",
              "      <th>num_distinct_items</th>\n",
              "      <th>min_item_price</th>\n",
              "      <th>...</th>\n",
              "      <th>total_onshift_partners</th>\n",
              "      <th>total_busy_partners</th>\n",
              "      <th>total_outstanding_orders</th>\n",
              "      <th>created_date</th>\n",
              "      <th>created_time</th>\n",
              "      <th>actual_delivery_date</th>\n",
              "      <th>actual_deli_time</th>\n",
              "      <th>time_difference_minutes</th>\n",
              "      <th>created_day_of_week</th>\n",
              "      <th>actual_delivery_day_of_week</th>\n",
              "    </tr>\n",
              "  </thead>\n",
              "  <tbody>\n",
              "    <tr>\n",
              "      <th>0</th>\n",
              "      <td>1.0</td>\n",
              "      <td>2015-02-06 22:24:17</td>\n",
              "      <td>2015-02-06 23:27:16</td>\n",
              "      <td>df263d996281d984952c07998dc54358</td>\n",
              "      <td>american</td>\n",
              "      <td>1.0</td>\n",
              "      <td>4</td>\n",
              "      <td>3441</td>\n",
              "      <td>4</td>\n",
              "      <td>557</td>\n",
              "      <td>...</td>\n",
              "      <td>33.0</td>\n",
              "      <td>14.0</td>\n",
              "      <td>21.0</td>\n",
              "      <td>2015-02-06</td>\n",
              "      <td>22:24:17</td>\n",
              "      <td>2015-02-06</td>\n",
              "      <td>23:27:16</td>\n",
              "      <td>62.983333</td>\n",
              "      <td>Friday</td>\n",
              "      <td>Friday</td>\n",
              "    </tr>\n",
              "    <tr>\n",
              "      <th>1</th>\n",
              "      <td>2.0</td>\n",
              "      <td>2015-02-10 21:49:25</td>\n",
              "      <td>2015-02-10 22:56:29</td>\n",
              "      <td>f0ade77b43923b38237db569b016ba25</td>\n",
              "      <td>mexican</td>\n",
              "      <td>2.0</td>\n",
              "      <td>1</td>\n",
              "      <td>1900</td>\n",
              "      <td>1</td>\n",
              "      <td>1400</td>\n",
              "      <td>...</td>\n",
              "      <td>1.0</td>\n",
              "      <td>2.0</td>\n",
              "      <td>2.0</td>\n",
              "      <td>2015-02-10</td>\n",
              "      <td>21:49:25</td>\n",
              "      <td>2015-02-10</td>\n",
              "      <td>22:56:29</td>\n",
              "      <td>67.066667</td>\n",
              "      <td>Tuesday</td>\n",
              "      <td>Tuesday</td>\n",
              "    </tr>\n",
              "    <tr>\n",
              "      <th>2</th>\n",
              "      <td>3.0</td>\n",
              "      <td>2015-01-22 20:39:28</td>\n",
              "      <td>2015-01-22 21:09:09</td>\n",
              "      <td>f0ade77b43923b38237db569b016ba25</td>\n",
              "      <td>mexican</td>\n",
              "      <td>1.0</td>\n",
              "      <td>1</td>\n",
              "      <td>1900</td>\n",
              "      <td>1</td>\n",
              "      <td>1900</td>\n",
              "      <td>...</td>\n",
              "      <td>1.0</td>\n",
              "      <td>0.0</td>\n",
              "      <td>0.0</td>\n",
              "      <td>2015-01-22</td>\n",
              "      <td>20:39:28</td>\n",
              "      <td>2015-01-22</td>\n",
              "      <td>21:09:09</td>\n",
              "      <td>29.683333</td>\n",
              "      <td>Thursday</td>\n",
              "      <td>Thursday</td>\n",
              "    </tr>\n",
              "    <tr>\n",
              "      <th>3</th>\n",
              "      <td>3.0</td>\n",
              "      <td>2015-02-03 21:21:45</td>\n",
              "      <td>2015-02-03 22:13:00</td>\n",
              "      <td>f0ade77b43923b38237db569b016ba25</td>\n",
              "      <td>mexican</td>\n",
              "      <td>1.0</td>\n",
              "      <td>6</td>\n",
              "      <td>6900</td>\n",
              "      <td>5</td>\n",
              "      <td>600</td>\n",
              "      <td>...</td>\n",
              "      <td>1.0</td>\n",
              "      <td>1.0</td>\n",
              "      <td>2.0</td>\n",
              "      <td>2015-02-03</td>\n",
              "      <td>21:21:45</td>\n",
              "      <td>2015-02-03</td>\n",
              "      <td>22:13:00</td>\n",
              "      <td>51.250000</td>\n",
              "      <td>Tuesday</td>\n",
              "      <td>Tuesday</td>\n",
              "    </tr>\n",
              "    <tr>\n",
              "      <th>4</th>\n",
              "      <td>3.0</td>\n",
              "      <td>2015-02-15 02:40:36</td>\n",
              "      <td>2015-02-15 03:20:26</td>\n",
              "      <td>f0ade77b43923b38237db569b016ba25</td>\n",
              "      <td>mexican</td>\n",
              "      <td>1.0</td>\n",
              "      <td>3</td>\n",
              "      <td>3900</td>\n",
              "      <td>3</td>\n",
              "      <td>1100</td>\n",
              "      <td>...</td>\n",
              "      <td>6.0</td>\n",
              "      <td>6.0</td>\n",
              "      <td>9.0</td>\n",
              "      <td>2015-02-15</td>\n",
              "      <td>02:40:36</td>\n",
              "      <td>2015-02-15</td>\n",
              "      <td>03:20:26</td>\n",
              "      <td>39.833333</td>\n",
              "      <td>Sunday</td>\n",
              "      <td>Sunday</td>\n",
              "    </tr>\n",
              "  </tbody>\n",
              "</table>\n",
              "<p>5 rows × 21 columns</p>\n",
              "</div>\n",
              "      <button class=\"colab-df-convert\" onclick=\"convertToInteractive('df-776a8e85-5ee3-4a14-84c7-efc35c2739a1')\"\n",
              "              title=\"Convert this dataframe to an interactive table.\"\n",
              "              style=\"display:none;\">\n",
              "        \n",
              "  <svg xmlns=\"http://www.w3.org/2000/svg\" height=\"24px\"viewBox=\"0 0 24 24\"\n",
              "       width=\"24px\">\n",
              "    <path d=\"M0 0h24v24H0V0z\" fill=\"none\"/>\n",
              "    <path d=\"M18.56 5.44l.94 2.06.94-2.06 2.06-.94-2.06-.94-.94-2.06-.94 2.06-2.06.94zm-11 1L8.5 8.5l.94-2.06 2.06-.94-2.06-.94L8.5 2.5l-.94 2.06-2.06.94zm10 10l.94 2.06.94-2.06 2.06-.94-2.06-.94-.94-2.06-.94 2.06-2.06.94z\"/><path d=\"M17.41 7.96l-1.37-1.37c-.4-.4-.92-.59-1.43-.59-.52 0-1.04.2-1.43.59L10.3 9.45l-7.72 7.72c-.78.78-.78 2.05 0 2.83L4 21.41c.39.39.9.59 1.41.59.51 0 1.02-.2 1.41-.59l7.78-7.78 2.81-2.81c.8-.78.8-2.07 0-2.86zM5.41 20L4 18.59l7.72-7.72 1.47 1.35L5.41 20z\"/>\n",
              "  </svg>\n",
              "      </button>\n",
              "      \n",
              "  <style>\n",
              "    .colab-df-container {\n",
              "      display:flex;\n",
              "      flex-wrap:wrap;\n",
              "      gap: 12px;\n",
              "    }\n",
              "\n",
              "    .colab-df-convert {\n",
              "      background-color: #E8F0FE;\n",
              "      border: none;\n",
              "      border-radius: 50%;\n",
              "      cursor: pointer;\n",
              "      display: none;\n",
              "      fill: #1967D2;\n",
              "      height: 32px;\n",
              "      padding: 0 0 0 0;\n",
              "      width: 32px;\n",
              "    }\n",
              "\n",
              "    .colab-df-convert:hover {\n",
              "      background-color: #E2EBFA;\n",
              "      box-shadow: 0px 1px 2px rgba(60, 64, 67, 0.3), 0px 1px 3px 1px rgba(60, 64, 67, 0.15);\n",
              "      fill: #174EA6;\n",
              "    }\n",
              "\n",
              "    [theme=dark] .colab-df-convert {\n",
              "      background-color: #3B4455;\n",
              "      fill: #D2E3FC;\n",
              "    }\n",
              "\n",
              "    [theme=dark] .colab-df-convert:hover {\n",
              "      background-color: #434B5C;\n",
              "      box-shadow: 0px 1px 3px 1px rgba(0, 0, 0, 0.15);\n",
              "      filter: drop-shadow(0px 1px 2px rgba(0, 0, 0, 0.3));\n",
              "      fill: #FFFFFF;\n",
              "    }\n",
              "  </style>\n",
              "\n",
              "      <script>\n",
              "        const buttonEl =\n",
              "          document.querySelector('#df-776a8e85-5ee3-4a14-84c7-efc35c2739a1 button.colab-df-convert');\n",
              "        buttonEl.style.display =\n",
              "          google.colab.kernel.accessAllowed ? 'block' : 'none';\n",
              "\n",
              "        async function convertToInteractive(key) {\n",
              "          const element = document.querySelector('#df-776a8e85-5ee3-4a14-84c7-efc35c2739a1');\n",
              "          const dataTable =\n",
              "            await google.colab.kernel.invokeFunction('convertToInteractive',\n",
              "                                                     [key], {});\n",
              "          if (!dataTable) return;\n",
              "\n",
              "          const docLinkHtml = 'Like what you see? Visit the ' +\n",
              "            '<a target=\"_blank\" href=https://colab.research.google.com/notebooks/data_table.ipynb>data table notebook</a>'\n",
              "            + ' to learn more about interactive tables.';\n",
              "          element.innerHTML = '';\n",
              "          dataTable['output_type'] = 'display_data';\n",
              "          await google.colab.output.renderOutput(dataTable, element);\n",
              "          const docLink = document.createElement('div');\n",
              "          docLink.innerHTML = docLinkHtml;\n",
              "          element.appendChild(docLink);\n",
              "        }\n",
              "      </script>\n",
              "    </div>\n",
              "  </div>\n",
              "  "
            ]
          },
          "metadata": {},
          "execution_count": 112
        }
      ]
    },
    {
      "cell_type": "code",
      "source": [],
      "metadata": {
        "id": "MaNPvL_0XhAu"
      },
      "execution_count": null,
      "outputs": []
    },
    {
      "cell_type": "markdown",
      "source": [
        "## Data Pre-Proceesing & Feature Engineering\n",
        "\n"
      ],
      "metadata": {
        "id": "Qh6llw0leXKF"
      }
    },
    {
      "cell_type": "code",
      "source": [
        "df[\"created_at\"] = pd.to_datetime(df[\"created_at\"])\n",
        "df['created_date'] = df['created_at'].dt.date\n",
        "df['created_time'] = df['created_at'].dt.time"
      ],
      "metadata": {
        "id": "FiKIn0A0aMrE"
      },
      "execution_count": 95,
      "outputs": []
    },
    {
      "cell_type": "code",
      "source": [
        "df[\"actual_delivery_time\"] = pd.to_datetime(df[\"actual_delivery_time\"])\n",
        "df['actual_delivery_date'] = df['actual_delivery_time'].dt.date\n",
        "df['actual_deli_time'] = df['actual_delivery_time'].dt.time"
      ],
      "metadata": {
        "id": "mjZg2V1Ca1HN"
      },
      "execution_count": 96,
      "outputs": []
    },
    {
      "cell_type": "code",
      "source": [
        "df['time_difference_minutes'] = (df['actual_delivery_time'] - df['created_at']).dt.total_seconds() / 60"
      ],
      "metadata": {
        "id": "B3V2Axu0bg9F"
      },
      "execution_count": 100,
      "outputs": []
    },
    {
      "cell_type": "code",
      "source": [
        "\n",
        "df['created_day_of_week'] = df['created_at'].dt.day_name()"
      ],
      "metadata": {
        "id": "mWWwM-K4frIc"
      },
      "execution_count": 102,
      "outputs": []
    },
    {
      "cell_type": "code",
      "source": [
        "df['actual_delivery_day_of_week'] = df['actual_delivery_time'].dt.day_name()"
      ],
      "metadata": {
        "id": "UQSiqLkmfra1"
      },
      "execution_count": 103,
      "outputs": []
    },
    {
      "cell_type": "code",
      "source": [],
      "metadata": {
        "colab": {
          "base_uri": "https://localhost:8080/"
        },
        "id": "imdsMn4Mk5HQ",
        "outputId": "6774ddc9-2aef-4f84-b4d8-ad539f382534"
      },
      "execution_count": 118,
      "outputs": [
        {
          "output_type": "execute_result",
          "data": {
            "text/plain": [
              "market_id                             float64\n",
              "created_at                     datetime64[ns]\n",
              "actual_delivery_time           datetime64[ns]\n",
              "store_id                               object\n",
              "store_primary_category                 object\n",
              "order_protocol                        float64\n",
              "total_items                             int64\n",
              "subtotal                                int64\n",
              "num_distinct_items                      int64\n",
              "min_item_price                          int64\n",
              "max_item_price                          int64\n",
              "total_onshift_partners                float64\n",
              "total_busy_partners                   float64\n",
              "total_outstanding_orders              float64\n",
              "created_date                           object\n",
              "created_time                           object\n",
              "actual_delivery_date                   object\n",
              "actual_deli_time                       object\n",
              "time_difference_minutes               float64\n",
              "created_day_of_week                    object\n",
              "actual_delivery_day_of_week            object\n",
              "dtype: object"
            ]
          },
          "metadata": {},
          "execution_count": 118
        }
      ]
    },
    {
      "cell_type": "code",
      "source": [
        "df.columns"
      ],
      "metadata": {
        "colab": {
          "base_uri": "https://localhost:8080/"
        },
        "id": "qmPLNlVqrYmB",
        "outputId": "6cb5efb1-3fda-46d4-87ff-ce16b77958e6"
      },
      "execution_count": 113,
      "outputs": [
        {
          "output_type": "execute_result",
          "data": {
            "text/plain": [
              "Index(['market_id', 'created_at', 'actual_delivery_time', 'store_id',\n",
              "       'store_primary_category', 'order_protocol', 'total_items', 'subtotal',\n",
              "       'num_distinct_items', 'min_item_price', 'max_item_price',\n",
              "       'total_onshift_partners', 'total_busy_partners',\n",
              "       'total_outstanding_orders', 'created_date', 'created_time',\n",
              "       'actual_delivery_date', 'actual_deli_time', 'time_difference_minutes',\n",
              "       'created_day_of_week', 'actual_delivery_day_of_week'],\n",
              "      dtype='object')"
            ]
          },
          "metadata": {},
          "execution_count": 113
        }
      ]
    },
    {
      "cell_type": "code",
      "source": [
        "cat_fea = []\n",
        "for column in df.columns:\n",
        "    unique_values = df[column].nunique()\n",
        "    if unique_values < 30:\n",
        "        cat_fea.append(column)\n"
      ],
      "metadata": {
        "id": "T_GPWFsXud2C"
      },
      "execution_count": 121,
      "outputs": []
    },
    {
      "cell_type": "code",
      "source": [
        "SubCol=['market_id','store_primary_category', 'order_protocol','created_day_of_week', 'actual_delivery_day_of_week']\n",
        "for column in cat_fea:\n",
        "  value_counts = df[column].value_counts()\n",
        "\n",
        "  # Create a bar plot\n",
        "  plt.bar(value_counts.index, value_counts.values)\n",
        "  plt.xlabel(column)\n",
        "  plt.ylabel('Count')\n",
        "  plt.title(f'Value Counts of {column}')\n",
        "\n",
        "  # Display the plot\n",
        "\n",
        "  plt.show()\n"
      ],
      "metadata": {
        "colab": {
          "base_uri": "https://localhost:8080/",
          "height": 1000
        },
        "id": "XgdbQOYtqBcz",
        "outputId": "6436328e-089c-4d6a-ba97-20eb7365fd7f"
      },
      "execution_count": 122,
      "outputs": [
        {
          "output_type": "display_data",
          "data": {
            "text/plain": [
              "<Figure size 640x480 with 1 Axes>"
            ],
            "image/png": "[encoded data removed]"
          },
          "metadata": {}
        },
        {
          "output_type": "display_data",
          "data": {
            "text/plain": [
              "<Figure size 640x480 with 1 Axes>"
            ],
            "image/png": "[encoded data removed]"
          },
          "metadata": {}
        },
        {
          "output_type": "display_data",
          "data": {
            "text/plain": [
              "<Figure size 640x480 with 1 Axes>"
            ],
            "image/png": "[encoded data removed]"
          },
          "metadata": {}
        },
        {
          "output_type": "display_data",
          "data": {
            "text/plain": [
              "<Figure size 640x480 with 1 Axes>"
            ],
            "image/png": "[encoded data removed]"
          },
          "metadata": {}
        },
        {
          "output_type": "display_data",
          "data": {
            "text/plain": [
              "<Figure size 640x480 with 1 Axes>"
            ],
            "image/png": "[encoded data removed]"
          },
          "metadata": {}
        }
      ]
    },
    {
      "cell_type": "code",
      "source": [
        "# Create a cross-tabulation\n",
        "cross_tab = pd.crosstab(df['market_id'], df['order_protocol'])\n",
        "\n",
        "# Create a stacked bar plot\n",
        "cross_tab.plot(kind='bar', stacked=True)\n",
        "plt.xlabel('market_id')\n",
        "plt.ylabel('Count')\n",
        "plt.title('Values of Two Categorical Variables')\n",
        "\n",
        "# Display the plot\n",
        "plt.show()"
      ],
      "metadata": {
        "colab": {
          "base_uri": "https://localhost:8080/",
          "height": 480
        },
        "id": "EY3omfvUpMVw",
        "outputId": "c5c839cb-facf-4a45-e3c8-382ea64ab895"
      },
      "execution_count": 116,
      "outputs": [
        {
          "output_type": "display_data",
          "data": {
            "text/plain": [
              "<Figure size 640x480 with 1 Axes>"
            ],
            "image/png": "[encoded data removed]"
          },
          "metadata": {}
        }
      ]
    },
    {
      "cell_type": "code",
      "source": [],
      "metadata": {
        "id": "dABp3VL6tN1o"
      },
      "execution_count": null,
      "outputs": []
    }
  ]
}